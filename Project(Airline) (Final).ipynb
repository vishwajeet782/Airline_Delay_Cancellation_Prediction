{
 "cells": [
  {
   "cell_type": "code",
   "execution_count": 1,
   "id": "60a163b6-969b-450d-8667-a0ac2aa8dad6",
   "metadata": {},
   "outputs": [],
   "source": [
    "import findspark"
   ]
  },
  {
   "cell_type": "code",
   "execution_count": 2,
   "id": "5492d1b1-96e6-461e-abb7-ae425597605c",
   "metadata": {},
   "outputs": [],
   "source": [
    "import matplotlib.pyplot as plt"
   ]
  },
  {
   "cell_type": "code",
   "execution_count": 3,
   "id": "bcdd932f-9417-4217-a2ce-6198b84a81d5",
   "metadata": {},
   "outputs": [],
   "source": [
    "import seaborn as sns"
   ]
  },
  {
   "cell_type": "code",
   "execution_count": 4,
   "id": "506a5a52-3995-4f10-9e67-3bad39a90218",
   "metadata": {},
   "outputs": [],
   "source": [
    "findspark.init(\"C:\\spark\\spark-3.3.2-bin-hadoop2\")"
   ]
  },
  {
   "cell_type": "code",
   "execution_count": 5,
   "id": "712f8f1e-3766-414e-b513-c38f93512f30",
   "metadata": {},
   "outputs": [],
   "source": [
    "import os\n",
    "from pyspark.sql.functions import col, to_timestamp"
   ]
  },
  {
   "cell_type": "code",
   "execution_count": 6,
   "id": "e4ff054b-bd98-491d-99e8-606c1d9a5d8d",
   "metadata": {},
   "outputs": [
    {
     "data": {
      "text/plain": [
       "['.ipynb_checkpoints', '2018.csv', 'Project(Airline).ipynb', 'spark-warehouse']"
      ]
     },
     "execution_count": 6,
     "metadata": {},
     "output_type": "execute_result"
    }
   ],
   "source": [
    "os.listdir()"
   ]
  },
  {
   "cell_type": "code",
   "execution_count": null,
   "id": "87f3eebf-d618-4309-9027-dc8aac15cc87",
   "metadata": {},
   "outputs": [],
   "source": []
  },
  {
   "cell_type": "code",
   "execution_count": 7,
   "id": "3401390e-d261-4cb6-bafb-1e218c6f534b",
   "metadata": {},
   "outputs": [],
   "source": [
    "import pyspark # only run after findspark.init()\n",
    "from pyspark.sql import SparkSession\n",
    "\n",
    "# spark = SparkSession.builder.getOrCreate()\n",
    "# Create a Spark session\n",
    "spark = SparkSession.builder \\\n",
    "         .appName(\"Used\") \\\n",
    "         .config(\"spark.executor.memory\", \"8g\") \\\n",
    "         .config(\"spark.driver.memory\", \"3g\") \\\n",
    "         .getOrCreate()\n",
    "airline=spark.read.format(\"csv\").option(\"header\",\"true\").option(\"inferSchema\",'True').load(r'2018.csv')"
   ]
  },
  {
   "cell_type": "code",
   "execution_count": 8,
   "id": "73a13f75-0c54-49b1-a8ff-03e8bc35f1ab",
   "metadata": {},
   "outputs": [
    {
     "data": {
      "text/plain": [
       "Row(FL_DATE=datetime.datetime(2018, 1, 1, 0, 0), OP_CARRIER='UA', OP_CARRIER_FL_NUM=2429, ORIGIN='EWR', DEST='DEN', CRS_DEP_TIME=1517, DEP_TIME=1512.0, DEP_DELAY=-5.0, TAXI_OUT=15.0, WHEELS_OFF=1527.0, WHEELS_ON=1712.0, TAXI_IN=10.0, CRS_ARR_TIME=1745, ARR_TIME=1722.0, ARR_DELAY=-23.0, CANCELLED=0.0, CANCELLATION_CODE=None, DIVERTED=0.0, CRS_ELAPSED_TIME=268.0, ACTUAL_ELAPSED_TIME=250.0, AIR_TIME=225.0, DISTANCE=1605.0, CARRIER_DELAY=None, WEATHER_DELAY=None, NAS_DELAY=None, SECURITY_DELAY=None, LATE_AIRCRAFT_DELAY=None, Unnamed: 27=None)"
      ]
     },
     "execution_count": 8,
     "metadata": {},
     "output_type": "execute_result"
    }
   ],
   "source": [
    "airline.head()"
   ]
  },
  {
   "cell_type": "code",
   "execution_count": 13,
   "id": "6c5b1bcd-61a2-4013-b7a3-5bd30613f65c",
   "metadata": {},
   "outputs": [
    {
     "name": "stdout",
     "output_type": "stream",
     "text": [
      "  summary OP_CARRIER   OP_CARRIER_FL_NUM   ORIGIN     DEST  \\\n",
      "0   count    7213446             7213446  7213446  7213446   \n",
      "1    mean       None  2607.5313346769353     None     None   \n",
      "2  stddev       None  1860.1222647858165     None     None   \n",
      "3     min         9E                   1      ABE      ABE   \n",
      "4     max         YX                7909      YUM      YUM   \n",
      "\n",
      "         CRS_DEP_TIME            DEP_TIME           DEP_DELAY  \\\n",
      "0             7213446             7101129             7096212   \n",
      "1  1329.6870178275403  1333.8538055005056   9.969858425875664   \n",
      "2   490.9319815381612  504.50554835428966  44.829640764696094   \n",
      "3                   1                 1.0              -122.0   \n",
      "4                2359              2400.0              2710.0   \n",
      "\n",
      "             TAXI_OUT          WHEELS_OFF  ...    CRS_ELAPSED_TIME  \\\n",
      "0             7097616             7097617  ...             7213436   \n",
      "1  17.410614211870577  1357.7988777078278  ...  141.13564825417458   \n",
      "2   9.920409137662036   505.9721357277259  ...   73.34433198485573   \n",
      "3                 1.0                 1.0  ...               -99.0   \n",
      "4               196.0              2400.0  ...               704.0   \n",
      "\n",
      "  ACTUAL_ELAPSED_TIME            AIR_TIME           DISTANCE  \\\n",
      "0             7079004             7079004            7213446   \n",
      "1  136.49993840941465  111.50204831075106  799.9894896281195   \n",
      "2   73.13757750146307   71.11292670607291  598.1782877555369   \n",
      "3                14.0                 7.0               31.0   \n",
      "4               757.0               696.0             4983.0   \n",
      "\n",
      "       CARRIER_DELAY       WEATHER_DELAY           NAS_DELAY  \\\n",
      "0            1352710             1352710             1352710   \n",
      "1  19.45500587709117  3.6364594037155045  15.885470647810692   \n",
      "2  58.90811936652002  29.996006444413993  35.893496615982194   \n",
      "3                0.0                 0.0                 0.0   \n",
      "4             2109.0              2692.0              1848.0   \n",
      "\n",
      "        SECURITY_DELAY LATE_AIRCRAFT_DELAY Unnamed: 27  \n",
      "0              1352710             1352710           0  \n",
      "1  0.09353889599396767  25.644120321428836        None  \n",
      "2    3.174306217587656   49.78776094095917        None  \n",
      "3                  0.0                 0.0        None  \n",
      "4                987.0              2454.0        None  \n",
      "\n",
      "[5 rows x 28 columns]\n"
     ]
    }
   ],
   "source": [
    "print(airline.describe().toPandas())"
   ]
  },
  {
   "cell_type": "code",
   "execution_count": 14,
   "id": "a9ead6ba-2fcb-4134-b342-1806b0525c4b",
   "metadata": {},
   "outputs": [],
   "source": [
    "# import pandas as pd\n",
    "# from pyspark.sql import SparkSession\n",
    "\n",
    "# # Assuming you've created a SparkSession named 'spark'\n",
    "# # Assuming 'airline' is your Spark DataFrame\n",
    "\n",
    "# # Collect rows from the Spark DataFrame\n",
    "# rows = airline.limit(5).collect()\n",
    "\n",
    "# # Create a list of dictionaries for each row\n",
    "# row_dicts = [row.asDict() for row in rows]\n",
    "\n",
    "# # Convert the list of dictionaries to a Pandas DataFrame\n",
    "# pandas_df = pd.DataFrame(row_dicts)\n",
    "\n"
   ]
  },
  {
   "cell_type": "code",
   "execution_count": 15,
   "id": "30d9acdf-a789-40a6-af58-8fe33e7621b8",
   "metadata": {},
   "outputs": [],
   "source": [
    "# pandas_df\n"
   ]
  },
  {
   "cell_type": "code",
   "execution_count": 16,
   "id": "7f7511e3-96af-4c26-a41f-4f21a47cfb5a",
   "metadata": {},
   "outputs": [
    {
     "data": {
      "text/plain": [
       "7213446"
      ]
     },
     "execution_count": 16,
     "metadata": {},
     "output_type": "execute_result"
    }
   ],
   "source": [
    "airline.count()"
   ]
  },
  {
   "cell_type": "code",
   "execution_count": 17,
   "id": "a9e01a06-2a36-4ec6-b074-ad8ba46f2252",
   "metadata": {},
   "outputs": [
    {
     "data": {
      "text/plain": [
       "7213446"
      ]
     },
     "execution_count": 17,
     "metadata": {},
     "output_type": "execute_result"
    }
   ],
   "source": [
    "airline.distinct().count()"
   ]
  },
  {
   "cell_type": "code",
   "execution_count": 18,
   "id": "0fcdfe65-78fc-46f0-92f1-62690a73ea85",
   "metadata": {},
   "outputs": [
    {
     "data": {
      "text/plain": [
       "0"
      ]
     },
     "execution_count": 18,
     "metadata": {},
     "output_type": "execute_result"
    }
   ],
   "source": [
    "airline.count() - airline.distinct().count() "
   ]
  },
  {
   "cell_type": "code",
   "execution_count": 19,
   "id": "b1da9aa8-3a6f-4483-a55d-cdea90c878ee",
   "metadata": {},
   "outputs": [],
   "source": [
    "# airline_pandas = airline.limit(3).toPandas()\n",
    "# display(airline_pandas)"
   ]
  },
  {
   "cell_type": "code",
   "execution_count": 20,
   "id": "75bf9df0-68a2-4c03-bba5-cc50e2ea65b6",
   "metadata": {},
   "outputs": [
    {
     "name": "stdout",
     "output_type": "stream",
     "text": [
      "root\n",
      " |-- FL_DATE: timestamp (nullable = true)\n",
      " |-- OP_CARRIER: string (nullable = true)\n",
      " |-- OP_CARRIER_FL_NUM: integer (nullable = true)\n",
      " |-- ORIGIN: string (nullable = true)\n",
      " |-- DEST: string (nullable = true)\n",
      " |-- CRS_DEP_TIME: integer (nullable = true)\n",
      " |-- DEP_TIME: double (nullable = true)\n",
      " |-- DEP_DELAY: double (nullable = true)\n",
      " |-- TAXI_OUT: double (nullable = true)\n",
      " |-- WHEELS_OFF: double (nullable = true)\n",
      " |-- WHEELS_ON: double (nullable = true)\n",
      " |-- TAXI_IN: double (nullable = true)\n",
      " |-- CRS_ARR_TIME: integer (nullable = true)\n",
      " |-- ARR_TIME: double (nullable = true)\n",
      " |-- ARR_DELAY: double (nullable = true)\n",
      " |-- CANCELLED: double (nullable = true)\n",
      " |-- CANCELLATION_CODE: string (nullable = true)\n",
      " |-- DIVERTED: double (nullable = true)\n",
      " |-- CRS_ELAPSED_TIME: double (nullable = true)\n",
      " |-- ACTUAL_ELAPSED_TIME: double (nullable = true)\n",
      " |-- AIR_TIME: double (nullable = true)\n",
      " |-- DISTANCE: double (nullable = true)\n",
      " |-- CARRIER_DELAY: double (nullable = true)\n",
      " |-- WEATHER_DELAY: double (nullable = true)\n",
      " |-- NAS_DELAY: double (nullable = true)\n",
      " |-- SECURITY_DELAY: double (nullable = true)\n",
      " |-- LATE_AIRCRAFT_DELAY: double (nullable = true)\n",
      " |-- Unnamed: 27: string (nullable = true)\n",
      "\n"
     ]
    }
   ],
   "source": [
    "airline.printSchema()"
   ]
  },
  {
   "cell_type": "code",
   "execution_count": 21,
   "id": "6315f0ac-709d-4a73-bddd-cc1d2ac37025",
   "metadata": {},
   "outputs": [],
   "source": [
    "def null_values(df):\n",
    "    for i in df.columns:\n",
    "        print(i,(20-len(i))*\"-\",\">\",((df.filter(df[i].isNull()).count())/df.count())*100)\n",
    "   "
   ]
  },
  {
   "cell_type": "code",
   "execution_count": 22,
   "id": "fa5aad46-24e9-4bec-a1ac-26f6c0fcc619",
   "metadata": {
    "scrolled": true
   },
   "outputs": [
    {
     "name": "stdout",
     "output_type": "stream",
     "text": [
      "FL_DATE ------------- > 0.0\n",
      "OP_CARRIER ---------- > 0.0\n",
      "OP_CARRIER_FL_NUM --- > 0.0\n",
      "ORIGIN -------------- > 0.0\n",
      "DEST ---------------- > 0.0\n",
      "CRS_DEP_TIME -------- > 0.0\n",
      "DEP_TIME ------------ > 1.5570505414471807\n",
      "DEP_DELAY ----------- > 1.6252149111534209\n",
      "TAXI_OUT ------------ > 1.6057512595228411\n",
      "WHEELS_OFF ---------- > 1.605737396523104\n",
      "WHEELS_ON ----------- > 1.653107266624024\n",
      "TAXI_IN ------------- > 1.653107266624024\n",
      "CRS_ARR_TIME -------- > 0.0\n",
      "ARR_TIME ------------ > 1.653093403624287\n",
      "ARR_DELAY ----------- > 1.8997854839420716\n",
      "CANCELLED ----------- > 0.0\n",
      "CANCELLATION_CODE --- > 98.38379603867556\n",
      "DIVERTED ------------ > 0.0\n",
      "CRS_ELAPSED_TIME ---- > 0.00013862999736880265\n",
      "ACTUAL_ELAPSED_TIME - > 1.8637694106256566\n",
      "AIR_TIME ------------ > 1.8637694106256566\n",
      "DISTANCE ------------ > 0.0\n",
      "CARRIER_DELAY ------- > 81.2473816259247\n",
      "WEATHER_DELAY ------- > 81.2473816259247\n",
      "NAS_DELAY ----------- > 81.2473816259247\n",
      "SECURITY_DELAY ------ > 81.2473816259247\n",
      "LATE_AIRCRAFT_DELAY - > 81.2473816259247\n",
      "Unnamed: 27 --------- > 100.0\n"
     ]
    }
   ],
   "source": [
    "null_values(airline)"
   ]
  },
  {
   "cell_type": "code",
   "execution_count": 23,
   "id": "46dd5884-243b-4e26-879d-0f2f193e403c",
   "metadata": {},
   "outputs": [],
   "source": [
    "df=airline"
   ]
  },
  {
   "cell_type": "code",
   "execution_count": 24,
   "id": "59ae97d4-b6a3-48d7-a285-c13c1a4ecce6",
   "metadata": {},
   "outputs": [
    {
     "data": {
      "text/plain": [
       "['FL_DATE',\n",
       " 'OP_CARRIER',\n",
       " 'OP_CARRIER_FL_NUM',\n",
       " 'ORIGIN',\n",
       " 'DEST',\n",
       " 'CRS_DEP_TIME',\n",
       " 'DEP_TIME',\n",
       " 'DEP_DELAY',\n",
       " 'TAXI_OUT',\n",
       " 'WHEELS_OFF',\n",
       " 'WHEELS_ON',\n",
       " 'TAXI_IN',\n",
       " 'CRS_ARR_TIME',\n",
       " 'ARR_TIME',\n",
       " 'ARR_DELAY',\n",
       " 'CANCELLED',\n",
       " 'CANCELLATION_CODE',\n",
       " 'DIVERTED',\n",
       " 'CRS_ELAPSED_TIME',\n",
       " 'ACTUAL_ELAPSED_TIME',\n",
       " 'AIR_TIME',\n",
       " 'DISTANCE',\n",
       " 'CARRIER_DELAY',\n",
       " 'WEATHER_DELAY',\n",
       " 'NAS_DELAY',\n",
       " 'SECURITY_DELAY',\n",
       " 'LATE_AIRCRAFT_DELAY',\n",
       " 'Unnamed: 27']"
      ]
     },
     "execution_count": 24,
     "metadata": {},
     "output_type": "execute_result"
    }
   ],
   "source": [
    "df.columns"
   ]
  },
  {
   "cell_type": "code",
   "execution_count": 25,
   "id": "ce04979f-5a73-46c0-ae80-6b664a482fd8",
   "metadata": {},
   "outputs": [
    {
     "data": {
      "image/png": "[encoded data removed]",
      "text/plain": [
       "<Figure size 1000x600 with 1 Axes>"
      ]
     },
     "metadata": {},
     "output_type": "display_data"
    }
   ],
   "source": [
    "# Create a pie chart for delay distribution\n",
    "plt.figure(figsize=(10, 6))\n",
    "\n",
    "# Sum the delays for each category\n",
    "delay_totals = df[['CARRIER_DELAY', 'WEATHER_DELAY', 'NAS_DELAY', 'SECURITY_DELAY']].toPandas().sum()\n",
    "\n",
    "# Define the labels for the pie chart\n",
    "labels = delay_totals.index\n",
    "\n",
    "# Define the values for the pie chart\n",
    "sizes = delay_totals.values\n",
    "\n",
    "# Create the pie chart\n",
    "plt.pie(sizes, labels=labels, autopct='%1.1f%%', startangle=90)\n",
    "\n",
    "# Add a title\n",
    "plt.title('Distribution of Flight Delays')\n",
    "\n",
    "# Display the pie chart\n",
    "plt.show()\n"
   ]
  },
  {
   "cell_type": "code",
   "execution_count": 26,
   "id": "ae3c57ac-d280-41e7-8798-1dca8dc108fd",
   "metadata": {},
   "outputs": [],
   "source": [
    "#As we can see carrier delay is contributing more for delays\n",
    "del delay_totals"
   ]
  },
  {
   "cell_type": "code",
   "execution_count": 27,
   "id": "7f4e2a9c-fcf5-4cb7-b867-aaef7f8d6198",
   "metadata": {},
   "outputs": [
    {
     "name": "stdout",
     "output_type": "stream",
     "text": [
      "+-------------------+----------+-----------------+------+----+------------+--------+---------+--------+----------+---------+-------+------------+--------+---------+---------+--------+----------------+-------------------+--------+--------+\n",
      "|            FL_DATE|OP_CARRIER|OP_CARRIER_FL_NUM|ORIGIN|DEST|CRS_DEP_TIME|DEP_TIME|DEP_DELAY|TAXI_OUT|WHEELS_OFF|WHEELS_ON|TAXI_IN|CRS_ARR_TIME|ARR_TIME|ARR_DELAY|CANCELLED|DIVERTED|CRS_ELAPSED_TIME|ACTUAL_ELAPSED_TIME|AIR_TIME|DISTANCE|\n",
      "+-------------------+----------+-----------------+------+----+------------+--------+---------+--------+----------+---------+-------+------------+--------+---------+---------+--------+----------------+-------------------+--------+--------+\n",
      "|2018-01-01 00:00:00|        UA|             2429|   EWR| DEN|        1517|  1512.0|     -5.0|    15.0|    1527.0|   1712.0|   10.0|        1745|  1722.0|    -23.0|      0.0|     0.0|           268.0|              250.0|   225.0|  1605.0|\n",
      "|2018-01-01 00:00:00|        UA|             2427|   LAS| SFO|        1115|  1107.0|     -8.0|    11.0|    1118.0|   1223.0|    7.0|        1254|  1230.0|    -24.0|      0.0|     0.0|            99.0|               83.0|    65.0|   414.0|\n",
      "|2018-01-01 00:00:00|        UA|             2426|   SNA| DEN|        1335|  1330.0|     -5.0|    15.0|    1345.0|   1631.0|    5.0|        1649|  1636.0|    -13.0|      0.0|     0.0|           134.0|              126.0|   106.0|   846.0|\n",
      "|2018-01-01 00:00:00|        UA|             2425|   RSW| ORD|        1546|  1552.0|      6.0|    19.0|    1611.0|   1748.0|    6.0|        1756|  1754.0|     -2.0|      0.0|     0.0|           190.0|              182.0|   157.0|  1120.0|\n",
      "|2018-01-01 00:00:00|        UA|             2424|   ORD| ALB|         630|   650.0|     20.0|    13.0|     703.0|    926.0|   10.0|         922|   936.0|     14.0|      0.0|     0.0|           112.0|              106.0|    83.0|   723.0|\n",
      "|2018-01-01 00:00:00|        UA|             2422|   ORD| OMA|        2241|  2244.0|      3.0|    15.0|    2259.0|      1.0|    2.0|          14|     3.0|    -11.0|      0.0|     0.0|            93.0|               79.0|    62.0|   416.0|\n",
      "|2018-01-01 00:00:00|        UA|             2421|   IAH| LAS|         750|   747.0|     -3.0|    14.0|     801.0|    854.0|    6.0|         916|   900.0|    -16.0|      0.0|     0.0|           206.0|              193.0|   173.0|  1222.0|\n",
      "|2018-01-01 00:00:00|        UA|             2420|   DEN| CID|        1324|  1318.0|     -6.0|    11.0|    1329.0|   1554.0|    6.0|        1619|  1600.0|    -19.0|      0.0|     0.0|           115.0|              102.0|    85.0|   692.0|\n",
      "|2018-01-01 00:00:00|        UA|             2419|   SMF| EWR|        2224|  2237.0|     13.0|    10.0|    2247.0|    627.0|    9.0|         638|   636.0|     -2.0|      0.0|     0.0|           314.0|              299.0|   280.0|  2500.0|\n",
      "|2018-01-01 00:00:00|        UA|             2418|   RIC| DEN|        1601|  1559.0|     -2.0|    12.0|    1611.0|   1748.0|    8.0|        1813|  1756.0|    -17.0|      0.0|     0.0|           252.0|              237.0|   217.0|  1482.0|\n",
      "|2018-01-01 00:00:00|        UA|             2417|   PDX| EWR|        2240|  2235.0|     -5.0|     9.0|    2244.0|    624.0|    7.0|         647|   631.0|    -16.0|      0.0|     0.0|           307.0|              296.0|   280.0|  2434.0|\n",
      "|2018-01-01 00:00:00|        UA|             2416|   ORD| CLE|        2059|  2300.0|    121.0|    24.0|    2324.0|    112.0|    8.0|        2311|   120.0|    129.0|      0.0|     0.0|            72.0|               80.0|    48.0|   316.0|\n",
      "|2018-01-01 00:00:00|        UA|             2415|   EWR| PDX|         825|   822.0|     -3.0|    15.0|     837.0|   1104.0|    5.0|        1135|  1109.0|    -26.0|      0.0|     0.0|           370.0|              347.0|   327.0|  2434.0|\n",
      "|2018-01-01 00:00:00|        UA|             2414|   EWR| ATL|        1044|  1055.0|     11.0|    11.0|    1106.0|   1310.0|    5.0|        1318|  1315.0|     -3.0|      0.0|     0.0|           154.0|              140.0|   124.0|   746.0|\n",
      "|2018-01-01 00:00:00|        UA|             2413|   ORD| BTV|        2114|  2230.0|     76.0|    14.0|    2244.0|    123.0|    5.0|          15|   128.0|     73.0|      0.0|     0.0|           121.0|              118.0|    99.0|   763.0|\n",
      "|2018-01-01 00:00:00|        UA|             2412|   MCO| LAX|         653|   747.0|     54.0|    14.0|     801.0|   1003.0|   22.0|         930|  1025.0|     55.0|      0.0|     0.0|           337.0|              338.0|   302.0|  2218.0|\n",
      "|2018-01-01 00:00:00|        UA|             2411|   EWR| SMF|        1810|  1922.0|     72.0|    16.0|    1938.0|   2157.0|    4.0|        2136|  2201.0|     25.0|      0.0|     0.0|           386.0|              339.0|   319.0|  2500.0|\n",
      "|2018-01-01 00:00:00|        UA|             2410|   RSW| EWR|        1250|  1337.0|     47.0|    12.0|    1349.0|   1600.0|    6.0|        1537|  1606.0|     29.0|      0.0|     0.0|           167.0|              149.0|   131.0|  1068.0|\n",
      "|2018-01-01 00:00:00|        UA|             2409|   IAH| JAC|         940|   934.0|     -6.0|    18.0|     952.0|   1156.0|    4.0|        1218|  1200.0|    -18.0|      0.0|     0.0|           218.0|              206.0|   184.0|  1265.0|\n",
      "|2018-01-01 00:00:00|        UA|             2408|   TYS| EWR|        1131|  1140.0|      9.0|     9.0|    1149.0|   1307.0|    5.0|        1333|  1312.0|    -21.0|      0.0|     0.0|           122.0|               92.0|    78.0|   631.0|\n",
      "+-------------------+----------+-----------------+------+----+------------+--------+---------+--------+----------+---------+-------+------------+--------+---------+---------+--------+----------------+-------------------+--------+--------+\n",
      "only showing top 20 rows\n",
      "\n"
     ]
    }
   ],
   "source": [
    "# Dropping columns with null values greater than 80%\n",
    "for i in df.columns:\n",
    "    if (((df.filter(df[i].isNull()).count())/df.count())*100)>80:\n",
    "        df=df.drop(i)\n",
    "        \n",
    "df.show()"
   ]
  },
  {
   "cell_type": "code",
   "execution_count": 31,
   "id": "3b8a02a8-118a-42b8-9a44-ef7aed5472e8",
   "metadata": {},
   "outputs": [
    {
     "data": {
      "text/plain": [
       "28"
      ]
     },
     "execution_count": 31,
     "metadata": {},
     "output_type": "execute_result"
    }
   ],
   "source": [
    "len(airline.columns)"
   ]
  },
  {
   "cell_type": "code",
   "execution_count": 32,
   "id": "4a1b72c2-0ccf-4f41-a85c-7219cb470677",
   "metadata": {},
   "outputs": [
    {
     "data": {
      "text/plain": [
       "21"
      ]
     },
     "execution_count": 32,
     "metadata": {},
     "output_type": "execute_result"
    }
   ],
   "source": [
    "len(df.columns)"
   ]
  },
  {
   "cell_type": "code",
   "execution_count": 33,
   "id": "aa9e6157-1bae-4082-b169-ef81194d3353",
   "metadata": {},
   "outputs": [
    {
     "data": {
      "text/plain": [
       "['FL_DATE',\n",
       " 'OP_CARRIER',\n",
       " 'OP_CARRIER_FL_NUM',\n",
       " 'ORIGIN',\n",
       " 'DEST',\n",
       " 'CRS_DEP_TIME',\n",
       " 'DEP_TIME',\n",
       " 'DEP_DELAY',\n",
       " 'TAXI_OUT',\n",
       " 'WHEELS_OFF',\n",
       " 'WHEELS_ON',\n",
       " 'TAXI_IN',\n",
       " 'CRS_ARR_TIME',\n",
       " 'ARR_TIME',\n",
       " 'ARR_DELAY',\n",
       " 'CANCELLED',\n",
       " 'DIVERTED',\n",
       " 'CRS_ELAPSED_TIME',\n",
       " 'ACTUAL_ELAPSED_TIME',\n",
       " 'AIR_TIME',\n",
       " 'DISTANCE']"
      ]
     },
     "execution_count": 33,
     "metadata": {},
     "output_type": "execute_result"
    }
   ],
   "source": [
    "df.columns"
   ]
  },
  {
   "cell_type": "code",
   "execution_count": 34,
   "id": "90c4022b-0660-4116-9c43-6a4b3dbd0544",
   "metadata": {},
   "outputs": [
    {
     "data": {
      "text/plain": [
       "['SECURITY_DELAY',\n",
       " 'LATE_AIRCRAFT_DELAY',\n",
       " 'CANCELLATION_CODE',\n",
       " 'WEATHER_DELAY',\n",
       " 'NAS_DELAY',\n",
       " 'Unnamed: 27',\n",
       " 'CARRIER_DELAY']"
      ]
     },
     "execution_count": 34,
     "metadata": {},
     "output_type": "execute_result"
    }
   ],
   "source": [
    "to_be_dropped=list(set(airline.columns) - set(df.columns))\n",
    "to_be_dropped\n",
    "# this contain the col dropped from the df table"
   ]
  },
  {
   "cell_type": "code",
   "execution_count": 35,
   "id": "f504ebf1-9824-42c2-90d2-4428d75b8863",
   "metadata": {},
   "outputs": [
    {
     "data": {
      "text/plain": [
       "7"
      ]
     },
     "execution_count": 35,
     "metadata": {},
     "output_type": "execute_result"
    }
   ],
   "source": [
    "len(to_be_dropped)"
   ]
  },
  {
   "cell_type": "code",
   "execution_count": 36,
   "id": "8aef9d57-555c-4948-aa5f-37fdad1acf59",
   "metadata": {},
   "outputs": [
    {
     "name": "stdout",
     "output_type": "stream",
     "text": [
      "FL_DATE ------------- > 0.0\n",
      "OP_CARRIER ---------- > 0.0\n",
      "OP_CARRIER_FL_NUM --- > 0.0\n",
      "ORIGIN -------------- > 0.0\n",
      "DEST ---------------- > 0.0\n",
      "CRS_DEP_TIME -------- > 0.0\n",
      "DEP_TIME ------------ > 1.5570505414471807\n",
      "DEP_DELAY ----------- > 1.6252149111534209\n",
      "TAXI_OUT ------------ > 1.6057512595228411\n",
      "WHEELS_OFF ---------- > 1.605737396523104\n",
      "WHEELS_ON ----------- > 1.653107266624024\n",
      "TAXI_IN ------------- > 1.653107266624024\n",
      "CRS_ARR_TIME -------- > 0.0\n",
      "ARR_TIME ------------ > 1.653093403624287\n",
      "ARR_DELAY ----------- > 1.8997854839420716\n",
      "CANCELLED ----------- > 0.0\n",
      "DIVERTED ------------ > 0.0\n",
      "CRS_ELAPSED_TIME ---- > 0.00013862999736880265\n",
      "ACTUAL_ELAPSED_TIME - > 1.8637694106256566\n",
      "AIR_TIME ------------ > 1.8637694106256566\n",
      "DISTANCE ------------ > 0.0\n"
     ]
    }
   ],
   "source": [
    "null_values(df)"
   ]
  },
  {
   "cell_type": "code",
   "execution_count": null,
   "id": "e8ff4bcf-17df-4b85-b6bf-7b3c10bb6f13",
   "metadata": {},
   "outputs": [],
   "source": []
  },
  {
   "cell_type": "code",
   "execution_count": 37,
   "id": "fc921dd7-ada7-4c19-9ecd-8e5baf55b144",
   "metadata": {},
   "outputs": [],
   "source": [
    "from pyspark.sql.functions import to_date\n",
    "from pyspark.sql.functions import col"
   ]
  },
  {
   "cell_type": "code",
   "execution_count": 38,
   "id": "ab3839f2-2071-4bf7-aa89-0639ff6280f6",
   "metadata": {},
   "outputs": [
    {
     "name": "stdout",
     "output_type": "stream",
     "text": [
      "root\n",
      " |-- FL_DATE: timestamp (nullable = true)\n",
      " |-- OP_CARRIER: string (nullable = true)\n",
      " |-- OP_CARRIER_FL_NUM: integer (nullable = true)\n",
      " |-- ORIGIN: string (nullable = true)\n",
      " |-- DEST: string (nullable = true)\n",
      " |-- CRS_DEP_TIME: integer (nullable = true)\n",
      " |-- DEP_TIME: double (nullable = true)\n",
      " |-- DEP_DELAY: double (nullable = true)\n",
      " |-- TAXI_OUT: double (nullable = true)\n",
      " |-- WHEELS_OFF: double (nullable = true)\n",
      " |-- WHEELS_ON: double (nullable = true)\n",
      " |-- TAXI_IN: double (nullable = true)\n",
      " |-- CRS_ARR_TIME: integer (nullable = true)\n",
      " |-- ARR_TIME: double (nullable = true)\n",
      " |-- ARR_DELAY: double (nullable = true)\n",
      " |-- CANCELLED: double (nullable = true)\n",
      " |-- DIVERTED: double (nullable = true)\n",
      " |-- CRS_ELAPSED_TIME: double (nullable = true)\n",
      " |-- ACTUAL_ELAPSED_TIME: double (nullable = true)\n",
      " |-- AIR_TIME: double (nullable = true)\n",
      " |-- DISTANCE: double (nullable = true)\n",
      "\n"
     ]
    }
   ],
   "source": [
    "df.printSchema()"
   ]
  },
  {
   "cell_type": "code",
   "execution_count": 39,
   "id": "bbdb8315-7b32-4447-aa47-b33b43cdee6c",
   "metadata": {},
   "outputs": [],
   "source": [
    "df=df.withColumn(\"FL_DATE\",to_date(col(\"FL_DATE\"),\"yyyy-MM-dd\"))"
   ]
  },
  {
   "cell_type": "code",
   "execution_count": 40,
   "id": "41024eb4-378f-4f80-a4e3-bd458ba13e20",
   "metadata": {},
   "outputs": [],
   "source": [
    "from pyspark.sql.types import StringType\n",
    "\n",
    "df = df.withColumn(\"OP_CARRIER_FL_NUM\",df[\"OP_CARRIER_FL_NUM\"].cast(StringType()))"
   ]
  },
  {
   "cell_type": "code",
   "execution_count": 41,
   "id": "92ba8c40-53c0-4b6b-a72c-fcf3bb5903c8",
   "metadata": {},
   "outputs": [
    {
     "data": {
      "text/plain": [
       "[('OP_CARRIER_FL_NUM', 'string')]"
      ]
     },
     "execution_count": 41,
     "metadata": {},
     "output_type": "execute_result"
    }
   ],
   "source": [
    "df.select('OP_CARRIER_FL_NUM').dtypes"
   ]
  },
  {
   "cell_type": "code",
   "execution_count": 42,
   "id": "aa897d40-5397-41f1-b877-9a4a503a9de4",
   "metadata": {},
   "outputs": [
    {
     "name": "stdout",
     "output_type": "stream",
     "text": [
      "+----------+\n",
      "|OP_CARRIER|\n",
      "+----------+\n",
      "|        UA|\n",
      "|        NK|\n",
      "|        AA|\n",
      "|        EV|\n",
      "|        B6|\n",
      "|        DL|\n",
      "|        OO|\n",
      "|        F9|\n",
      "|        YV|\n",
      "|        MQ|\n",
      "|        OH|\n",
      "|        HA|\n",
      "|        G4|\n",
      "|        YX|\n",
      "|        AS|\n",
      "|        VX|\n",
      "|        WN|\n",
      "|        9E|\n",
      "+----------+\n",
      "\n"
     ]
    }
   ],
   "source": [
    "df.select('OP_CARRIER').distinct().show()"
   ]
  },
  {
   "cell_type": "code",
   "execution_count": 43,
   "id": "ae2897b7-8544-4a57-a769-ecad87da53d5",
   "metadata": {},
   "outputs": [],
   "source": [
    "from pyspark.sql.functions import regexp_replace\n",
    "\n",
    "l={'UA':'United Airlines',\n",
    "    'AS':'Alaska Airlines',\n",
    "    '9E':'Endeavor Air',\n",
    "    'B6':'JetBlue Airways',\n",
    "    'EV':'ExpressJet',\n",
    "    'F9':'Frontier Airlines',\n",
    "    'G4':'Allegiant Air',\n",
    "    'HA':'Hawaiian Airlines',\n",
    "    'MQ':'Envoy Air',\n",
    "    'NK':'Spirit Airlines',\n",
    "    'OH':'PSA Airlines',\n",
    "    'OO':'SkyWest Airlines',\n",
    "    'VX':'Virgin America',\n",
    "    'WN':'Southwest Airlines',\n",
    "    'YV':'Mesa Airline',\n",
    "    'YX':'Republic Airways',\n",
    "    'AA':'American Airlines',\n",
    "    'DL':'Delta Airlines'}\n",
    "\n",
    "# creating a dictionary l that maps airline codes to airline names.\n",
    "\n",
    "\n",
    "l=list(l.items())  # returns a list of key-value pairs,converts the dictionary to a list of tuples\n",
    "\n",
    "for i in range(18):\n",
    "    df=df.withColumn('OP_CARRIER', regexp_replace('OP_CARRIER', l[i][0], l[i][1]))"
   ]
  },
  {
   "cell_type": "code",
   "execution_count": 44,
   "id": "4d2d0877-70f9-4856-b752-021c411f389f",
   "metadata": {},
   "outputs": [
    {
     "name": "stdout",
     "output_type": "stream",
     "text": [
      "+------------------+\n",
      "|        OP_CARRIER|\n",
      "+------------------+\n",
      "|      Mesa Airline|\n",
      "|     Allegiant Air|\n",
      "|   United Airlines|\n",
      "|    Virgin America|\n",
      "| Hawaiian Airlines|\n",
      "|  Republic Airways|\n",
      "|        ExpressJet|\n",
      "|  SkyWest Airlines|\n",
      "| Frontier Airlines|\n",
      "|      Endeavor Air|\n",
      "| American Airlines|\n",
      "|   JetBlue Airways|\n",
      "|         Envoy Air|\n",
      "|    Delta Airlines|\n",
      "|      PSA Airlines|\n",
      "|   Alaska Airlines|\n",
      "|   Spirit Airlines|\n",
      "|Southwest Airlines|\n",
      "+------------------+\n",
      "\n"
     ]
    }
   ],
   "source": [
    "df.select('OP_CARRIER').distinct().show()"
   ]
  },
  {
   "cell_type": "code",
   "execution_count": 45,
   "id": "53369b6c-74c9-4ba2-b732-744374cb221c",
   "metadata": {},
   "outputs": [
    {
     "data": {
      "text/plain": [
       "DataFrame[sum(CANCELLED): double]"
      ]
     },
     "execution_count": 45,
     "metadata": {},
     "output_type": "execute_result"
    }
   ],
   "source": [
    "df.agg({'CANCELLED': 'sum'})"
   ]
  },
  {
   "cell_type": "code",
   "execution_count": 46,
   "id": "97184c8a-83ab-4d5e-9a3b-407683ba2d48",
   "metadata": {},
   "outputs": [
    {
     "name": "stdout",
     "output_type": "stream",
     "text": [
      "+--------------+\n",
      "|sum(CANCELLED)|\n",
      "+--------------+\n",
      "|      116584.0|\n",
      "+--------------+\n",
      "\n"
     ]
    }
   ],
   "source": [
    "df.agg({'CANCELLED': 'sum'}).show()"
   ]
  },
  {
   "cell_type": "code",
   "execution_count": 47,
   "id": "f235223b-772a-4924-b47c-022da90bd033",
   "metadata": {},
   "outputs": [
    {
     "name": "stdout",
     "output_type": "stream",
     "text": [
      "+---------+\n",
      "|CANCELLED|\n",
      "+---------+\n",
      "|      0.0|\n",
      "|      1.0|\n",
      "+---------+\n",
      "\n"
     ]
    }
   ],
   "source": [
    "df.select('CANCELLED').distinct().show()"
   ]
  },
  {
   "cell_type": "code",
   "execution_count": 48,
   "id": "5a7c6b00-da7f-48e1-a56a-7ae07b33e5d4",
   "metadata": {},
   "outputs": [],
   "source": [
    "# CANCELLED\n",
    "# Flight Cancelled (1 = cancelled)\n",
    "# Flight Not Cancelled (0 = not cancelled)"
   ]
  },
  {
   "cell_type": "code",
   "execution_count": 49,
   "id": "f19eceef-1d8d-45a2-822e-30fc9d4e53a1",
   "metadata": {},
   "outputs": [],
   "source": [
    "cancelled=df.filter(df['CANCELLED']>0)"
   ]
  },
  {
   "cell_type": "code",
   "execution_count": 50,
   "id": "cda4e40b-8745-4882-a739-fea0d006a5f8",
   "metadata": {},
   "outputs": [
    {
     "name": "stdout",
     "output_type": "stream",
     "text": [
      "+----------+---------------+-----------------+------+----+------------+--------+---------+--------+----------+---------+-------+------------+--------+---------+---------+--------+----------------+-------------------+--------+--------+\n",
      "|   FL_DATE|     OP_CARRIER|OP_CARRIER_FL_NUM|ORIGIN|DEST|CRS_DEP_TIME|DEP_TIME|DEP_DELAY|TAXI_OUT|WHEELS_OFF|WHEELS_ON|TAXI_IN|CRS_ARR_TIME|ARR_TIME|ARR_DELAY|CANCELLED|DIVERTED|CRS_ELAPSED_TIME|ACTUAL_ELAPSED_TIME|AIR_TIME|DISTANCE|\n",
      "+----------+---------------+-----------------+------+----+------------+--------+---------+--------+----------+---------+-------+------------+--------+---------+---------+--------+----------------+-------------------+--------+--------+\n",
      "|2018-01-01|United Airlines|             2034|   IAH| MFE|        1440|    null|     null|    null|      null|     null|   null|        1601|    null|     null|      1.0|     0.0|            81.0|               null|    null|   316.0|\n",
      "|2018-01-01|United Airlines|              864|   LAS| SFO|        1744|    null|     null|    null|      null|     null|   null|        1926|    null|     null|      1.0|     0.0|           102.0|               null|    null|   414.0|\n",
      "|2018-01-01|United Airlines|              488|   MFE| IAH|        1726|    null|     null|    null|      null|     null|   null|        1844|    null|     null|      1.0|     0.0|            78.0|               null|    null|   316.0|\n",
      "|2018-01-01|Alaska Airlines|                5|   DCA| LAX|         910|    null|     null|    null|      null|     null|   null|        1230|    null|     null|      1.0|     0.0|           380.0|               null|    null|  2311.0|\n",
      "|2018-01-01|Alaska Airlines|               64|   WRG| KTN|        1623|    null|     null|    null|      null|     null|   null|        1655|    null|     null|      1.0|     0.0|            32.0|               null|    null|    82.0|\n",
      "|2018-01-01|Alaska Airlines|               65|   WRG| PSG|        1056|    null|     null|    null|      null|     null|   null|        1119|    null|     null|      1.0|     0.0|            23.0|               null|    null|    31.0|\n",
      "|2018-01-01|Alaska Airlines|               65|   PSG| JNU|        1204|    null|     null|    null|      null|     null|   null|        1249|    null|     null|      1.0|     0.0|            45.0|               null|    null|   123.0|\n",
      "|2018-01-01|Alaska Airlines|               73|   SIT| JNU|         600|    null|     null|    null|      null|     null|   null|         641|    null|     null|      1.0|     0.0|            41.0|               null|    null|    95.0|\n",
      "|2018-01-01|Alaska Airlines|              162|   FAI| ANC|         545|    null|     null|    null|      null|     null|   null|         652|    null|     null|      1.0|     0.0|            67.0|               null|    null|   261.0|\n",
      "|2018-01-01|Alaska Airlines|              313|   SFO| SEA|         500|    null|     null|    null|      null|     null|   null|         716|    null|     null|      1.0|     0.0|           136.0|               null|    null|   679.0|\n",
      "|2018-01-01|     ExpressJet|             2853|   SAF| DFW|         650|    null|     null|    null|      null|     null|   null|         946|    null|     null|      1.0|     0.0|           116.0|               null|    null|   551.0|\n",
      "|2018-01-01|     ExpressJet|             2857|   ROW| DFW|         700|    null|     null|    null|      null|     null|   null|         935|    null|     null|      1.0|     0.0|            95.0|               null|    null|   435.0|\n",
      "|2018-01-01|     ExpressJet|             2864|   COU| DFW|         545|    null|     null|    null|      null|     null|   null|         742|    null|     null|      1.0|     0.0|           117.0|               null|    null|   489.0|\n",
      "|2018-01-01|     ExpressJet|             2872|   DFW| GRK|         904|    null|     null|    null|      null|     null|   null|        1005|    null|     null|      1.0|     0.0|            61.0|               null|    null|   134.0|\n",
      "|2018-01-01|     ExpressJet|             2872|   GRK| DFW|        1035|    null|     null|    null|      null|     null|   null|        1135|    null|     null|      1.0|     0.0|            60.0|               null|    null|   134.0|\n",
      "|2018-01-01|     ExpressJet|             4004|   DCA| CLE|         645|    null|     null|    null|      null|     null|   null|         815|    null|     null|      1.0|     0.0|            90.0|               null|    null|   310.0|\n",
      "|2018-01-01|     ExpressJet|             4101|   IAH| BRO|        1005|    null|     null|    null|      null|     null|   null|        1130|    null|     null|      1.0|     0.0|            85.0|               null|    null|   308.0|\n",
      "|2018-01-01|     ExpressJet|             5456|   MSP| RIC|        1530|    null|     null|    null|      null|     null|   null|        1912|    null|     null|      1.0|     0.0|           162.0|               null|    null|   970.0|\n",
      "|2018-01-01|     ExpressJet|             4197|   IAH| LRD|        1005|    null|     null|    null|      null|     null|   null|        1133|    null|     null|      1.0|     0.0|            88.0|               null|    null|   301.0|\n",
      "|2018-01-01|     ExpressJet|             4217|   BRO| IAH|        1200|    null|     null|    null|      null|     null|   null|        1319|    null|     null|      1.0|     0.0|            79.0|               null|    null|   308.0|\n",
      "+----------+---------------+-----------------+------+----+------------+--------+---------+--------+----------+---------+-------+------------+--------+---------+---------+--------+----------------+-------------------+--------+--------+\n",
      "only showing top 20 rows\n",
      "\n"
     ]
    }
   ],
   "source": [
    "cancelled.show()"
   ]
  },
  {
   "cell_type": "code",
   "execution_count": 51,
   "id": "96d62c88-6b4b-4f1c-9c9a-50dbf2b251f0",
   "metadata": {},
   "outputs": [],
   "source": [
    "# Delayed Flights"
   ]
  },
  {
   "cell_type": "code",
   "execution_count": 52,
   "id": "edf638e6-c953-47a2-8a00-2490dc6f4882",
   "metadata": {},
   "outputs": [
    {
     "name": "stdout",
     "output_type": "stream",
     "text": [
      "+---------+\n",
      "|ARR_DELAY|\n",
      "+---------+\n",
      "|    -23.0|\n",
      "|    -24.0|\n",
      "|    -13.0|\n",
      "|     -2.0|\n",
      "|     14.0|\n",
      "|    -11.0|\n",
      "|    -16.0|\n",
      "|    -19.0|\n",
      "|     -2.0|\n",
      "|    -17.0|\n",
      "|    -16.0|\n",
      "|    129.0|\n",
      "|    -26.0|\n",
      "|     -3.0|\n",
      "|     73.0|\n",
      "|     55.0|\n",
      "|     25.0|\n",
      "|     29.0|\n",
      "|    -18.0|\n",
      "|    -21.0|\n",
      "+---------+\n",
      "only showing top 20 rows\n",
      "\n"
     ]
    }
   ],
   "source": [
    "# Total Delay on Arrival in minutes\n",
    "df.select('ARR_DELAY').show()"
   ]
  },
  {
   "cell_type": "code",
   "execution_count": 53,
   "id": "5be0fac3-1cf4-4aaa-8a1e-59689767c651",
   "metadata": {},
   "outputs": [
    {
     "name": "stdout",
     "output_type": "stream",
     "text": [
      "+----------+---------------+-----------------+------+----+------------+--------+---------+--------+----------+---------+-------+------------+--------+---------+---------+--------+----------------+-------------------+--------+--------+\n",
      "|   FL_DATE|     OP_CARRIER|OP_CARRIER_FL_NUM|ORIGIN|DEST|CRS_DEP_TIME|DEP_TIME|DEP_DELAY|TAXI_OUT|WHEELS_OFF|WHEELS_ON|TAXI_IN|CRS_ARR_TIME|ARR_TIME|ARR_DELAY|CANCELLED|DIVERTED|CRS_ELAPSED_TIME|ACTUAL_ELAPSED_TIME|AIR_TIME|DISTANCE|\n",
      "+----------+---------------+-----------------+------+----+------------+--------+---------+--------+----------+---------+-------+------------+--------+---------+---------+--------+----------------+-------------------+--------+--------+\n",
      "|2018-01-01|United Airlines|             2424|   ORD| ALB|         630|   650.0|     20.0|    13.0|     703.0|    926.0|   10.0|         922|   936.0|     14.0|      0.0|     0.0|           112.0|              106.0|    83.0|   723.0|\n",
      "|2018-01-01|United Airlines|             2416|   ORD| CLE|        2059|  2300.0|    121.0|    24.0|    2324.0|    112.0|    8.0|        2311|   120.0|    129.0|      0.0|     0.0|            72.0|               80.0|    48.0|   316.0|\n",
      "|2018-01-01|United Airlines|             2413|   ORD| BTV|        2114|  2230.0|     76.0|    14.0|    2244.0|    123.0|    5.0|          15|   128.0|     73.0|      0.0|     0.0|           121.0|              118.0|    99.0|   763.0|\n",
      "|2018-01-01|United Airlines|             2412|   MCO| LAX|         653|   747.0|     54.0|    14.0|     801.0|   1003.0|   22.0|         930|  1025.0|     55.0|      0.0|     0.0|           337.0|              338.0|   302.0|  2218.0|\n",
      "|2018-01-01|United Airlines|             2411|   EWR| SMF|        1810|  1922.0|     72.0|    16.0|    1938.0|   2157.0|    4.0|        2136|  2201.0|     25.0|      0.0|     0.0|           386.0|              339.0|   319.0|  2500.0|\n",
      "|2018-01-01|United Airlines|             2410|   RSW| EWR|        1250|  1337.0|     47.0|    12.0|    1349.0|   1600.0|    6.0|        1537|  1606.0|     29.0|      0.0|     0.0|           167.0|              149.0|   131.0|  1068.0|\n",
      "|2018-01-01|United Airlines|             2406|   EWR| TYS|         830|   844.0|     14.0|    20.0|     904.0|   1052.0|    3.0|        1049|  1055.0|      6.0|      0.0|     0.0|           139.0|              131.0|   108.0|   631.0|\n",
      "|2018-01-01|United Airlines|             2402|   JAC| EWR|        1343|  1351.0|      8.0|    38.0|    1429.0|   2003.0|   10.0|        1959|  2013.0|     14.0|      0.0|     0.0|           256.0|              262.0|   214.0|  1874.0|\n",
      "|2018-01-01|United Airlines|             2398|   MSY| EWR|        2043|  2131.0|     48.0|    10.0|    2141.0|     54.0|    7.0|          34|   101.0|     27.0|      0.0|     0.0|           171.0|              150.0|   133.0|  1167.0|\n",
      "|2018-01-01|United Airlines|             2384|   EWR| FLL|        1627|  1624.0|     -3.0|    38.0|    1702.0|   1938.0|    6.0|        1938|  1944.0|      6.0|      0.0|     0.0|           191.0|              200.0|   156.0|  1065.0|\n",
      "|2018-01-01|United Airlines|             2160|   ORD| MCI|        2030|  2111.0|     41.0|    21.0|    2132.0|   2230.0|    5.0|        2209|  2235.0|     26.0|      0.0|     0.0|            99.0|               84.0|    58.0|   403.0|\n",
      "|2018-01-01|United Airlines|             2155|   IND| ORD|        1822|  1956.0|     94.0|     9.0|    2005.0|   1947.0|    3.0|        1835|  1950.0|     75.0|      0.0|     0.0|            73.0|               54.0|    42.0|   177.0|\n",
      "|2018-01-01|United Airlines|             2154|   IAD| FLL|        1729|  1745.0|     16.0|    20.0|    1805.0|   2014.0|    6.0|        2009|  2020.0|     11.0|      0.0|     0.0|           160.0|              155.0|   129.0|   901.0|\n",
      "|2018-01-01|United Airlines|             2153|   EWR| BTV|        2145|  2359.0|    134.0|    12.0|      11.0|    102.0|    4.0|        2302|   106.0|    124.0|      0.0|     0.0|            77.0|               67.0|    51.0|   266.0|\n",
      "|2018-01-01|United Airlines|             2150|   LAX| SAN|         602|  1101.0|    299.0|    19.0|    1120.0|   1149.0|    3.0|         701|  1152.0|    291.0|      0.0|     0.0|            59.0|               51.0|    29.0|   109.0|\n",
      "|2018-01-01|United Airlines|             2148|   SAN| EWR|        2100|  2111.0|     11.0|    13.0|    2124.0|    453.0|    7.0|         459|   500.0|      1.0|      0.0|     0.0|           299.0|              289.0|   269.0|  2425.0|\n",
      "|2018-01-01|United Airlines|             2147|   EWR| ORD|        1646|  1658.0|     12.0|    17.0|    1715.0|   1811.0|   25.0|        1827|  1836.0|      9.0|      0.0|     0.0|           161.0|              158.0|   116.0|   719.0|\n",
      "|2018-01-01|United Airlines|             2145|   BDL| EWR|         600|   621.0|     21.0|    14.0|     635.0|    717.0|    4.0|         717|   721.0|      4.0|      0.0|     0.0|            77.0|               60.0|    42.0|   116.0|\n",
      "|2018-01-01|United Airlines|             2143|   SFO| SAN|         835|   830.0|     -5.0|    51.0|     921.0|   1032.0|    3.0|        1007|  1035.0|     28.0|      0.0|     0.0|            92.0|              125.0|    71.0|   447.0|\n",
      "|2018-01-01|United Airlines|             2137|   DEN| BZN|        2228|  2227.0|     -1.0|    33.0|    2300.0|     19.0|    6.0|          16|    25.0|      9.0|      0.0|     0.0|           108.0|              118.0|    79.0|   524.0|\n",
      "+----------+---------------+-----------------+------+----+------------+--------+---------+--------+----------+---------+-------+------------+--------+---------+---------+--------+----------------+-------------------+--------+--------+\n",
      "only showing top 20 rows\n",
      "\n"
     ]
    }
   ],
   "source": [
    "delay=df.filter(df['ARR_DELAY']>0)\n",
    "delay.show() \n",
    "\n",
    "#delay contains delayed flights only"
   ]
  },
  {
   "cell_type": "code",
   "execution_count": 54,
   "id": "de6a7d6a-9dd9-4458-b273-db1e8c2342f9",
   "metadata": {},
   "outputs": [
    {
     "name": "stdout",
     "output_type": "stream",
     "text": [
      "FL_DATE ------------- > 2516050\n",
      "OP_CARRIER ---------- > 2516050\n",
      "OP_CARRIER_FL_NUM --- > 2516050\n",
      "ORIGIN -------------- > 2516050\n",
      "DEST ---------------- > 2516050\n",
      "CRS_DEP_TIME -------- > 2516050\n",
      "DEP_TIME ------------ > 2516050\n",
      "DEP_DELAY ----------- > 2516050\n",
      "TAXI_OUT ------------ > 2516050\n",
      "WHEELS_OFF ---------- > 2516050\n",
      "WHEELS_ON ----------- > 2516050\n",
      "TAXI_IN ------------- > 2516050\n",
      "CRS_ARR_TIME -------- > 2516050\n",
      "ARR_TIME ------------ > 2516050\n",
      "ARR_DELAY ----------- > 2516050\n",
      "CANCELLED ----------- > 2516050\n",
      "DIVERTED ------------ > 2516050\n",
      "CRS_ELAPSED_TIME ---- > 2516050\n",
      "ACTUAL_ELAPSED_TIME - > 2516050\n",
      "AIR_TIME ------------ > 2516050\n",
      "DISTANCE ------------ > 2516050\n"
     ]
    }
   ],
   "source": [
    "for i in delay.columns:\n",
    "    print(i,(20-len(i))*\"-\",\">\",delay.count())"
   ]
  },
  {
   "cell_type": "code",
   "execution_count": 55,
   "id": "09ff51f0-ece1-4676-9e80-be70671a2409",
   "metadata": {},
   "outputs": [],
   "source": [
    "df=df.withColumn('ARR_DELAY',col('ARR_DELAY')/60)\n",
    "\n",
    "df=df.withColumn('DEP_DELAY',col('DEP_DELAY')/60) "
   ]
  },
  {
   "cell_type": "code",
   "execution_count": 56,
   "id": "e03c4922-87c6-4d79-95bf-7432e792d6ed",
   "metadata": {},
   "outputs": [],
   "source": [
    "# Save the DataFrame as a CSV file"
   ]
  },
  {
   "cell_type": "code",
   "execution_count": 57,
   "id": "bb2310b3-89f0-4f45-925f-8b7688ab7bdb",
   "metadata": {},
   "outputs": [],
   "source": [
    "# If a number is positive = flight delayed\n",
    "\n",
    "# Since we're exploring only delayed flights, non-delayed should be discarded.\n",
    "\n",
    "# The danger of keeping those is if we summarise for plotting for example, we'll get false data Sum of Delayed minutes will be less because of the negative numbers that will lessen the real delays\n",
    "\n",
    "# Let's first define what a delayed flight is: A Delayed flight is a flight that arrives late at its destination.\n",
    "\n",
    "# Flight can be delayed on departure but still, arrive on time = not a delayed flight"
   ]
  },
  {
   "cell_type": "code",
   "execution_count": 58,
   "id": "1b1365ce-ae3b-4fce-8976-a38bef7c0b42",
   "metadata": {},
   "outputs": [
    {
     "data": {
      "text/html": [
       "<div>\n",
       "<style scoped>\n",
       "    .dataframe tbody tr th:only-of-type {\n",
       "        vertical-align: middle;\n",
       "    }\n",
       "\n",
       "    .dataframe tbody tr th {\n",
       "        vertical-align: top;\n",
       "    }\n",
       "\n",
       "    .dataframe thead th {\n",
       "        text-align: right;\n",
       "    }\n",
       "</style>\n",
       "<table border=\"1\" class=\"dataframe\">\n",
       "  <thead>\n",
       "    <tr style=\"text-align: right;\">\n",
       "      <th></th>\n",
       "      <th>FL_DATE</th>\n",
       "      <th>OP_CARRIER</th>\n",
       "      <th>OP_CARRIER_FL_NUM</th>\n",
       "      <th>ORIGIN</th>\n",
       "      <th>DEST</th>\n",
       "      <th>CRS_DEP_TIME</th>\n",
       "      <th>DEP_TIME</th>\n",
       "      <th>DEP_DELAY</th>\n",
       "      <th>TAXI_OUT</th>\n",
       "      <th>WHEELS_OFF</th>\n",
       "      <th>...</th>\n",
       "      <th>TAXI_IN</th>\n",
       "      <th>CRS_ARR_TIME</th>\n",
       "      <th>ARR_TIME</th>\n",
       "      <th>ARR_DELAY</th>\n",
       "      <th>CANCELLED</th>\n",
       "      <th>DIVERTED</th>\n",
       "      <th>CRS_ELAPSED_TIME</th>\n",
       "      <th>ACTUAL_ELAPSED_TIME</th>\n",
       "      <th>AIR_TIME</th>\n",
       "      <th>DISTANCE</th>\n",
       "    </tr>\n",
       "  </thead>\n",
       "  <tbody>\n",
       "    <tr>\n",
       "      <th>0</th>\n",
       "      <td>2018-01-01</td>\n",
       "      <td>United Airlines</td>\n",
       "      <td>2424</td>\n",
       "      <td>ORD</td>\n",
       "      <td>ALB</td>\n",
       "      <td>630</td>\n",
       "      <td>650.0</td>\n",
       "      <td>20.0</td>\n",
       "      <td>13.0</td>\n",
       "      <td>703.0</td>\n",
       "      <td>...</td>\n",
       "      <td>10.0</td>\n",
       "      <td>922</td>\n",
       "      <td>936.0</td>\n",
       "      <td>14.0</td>\n",
       "      <td>0.0</td>\n",
       "      <td>0.0</td>\n",
       "      <td>112.0</td>\n",
       "      <td>106.0</td>\n",
       "      <td>83.0</td>\n",
       "      <td>723.0</td>\n",
       "    </tr>\n",
       "    <tr>\n",
       "      <th>1</th>\n",
       "      <td>2018-01-01</td>\n",
       "      <td>United Airlines</td>\n",
       "      <td>2416</td>\n",
       "      <td>ORD</td>\n",
       "      <td>CLE</td>\n",
       "      <td>2059</td>\n",
       "      <td>2300.0</td>\n",
       "      <td>121.0</td>\n",
       "      <td>24.0</td>\n",
       "      <td>2324.0</td>\n",
       "      <td>...</td>\n",
       "      <td>8.0</td>\n",
       "      <td>2311</td>\n",
       "      <td>120.0</td>\n",
       "      <td>129.0</td>\n",
       "      <td>0.0</td>\n",
       "      <td>0.0</td>\n",
       "      <td>72.0</td>\n",
       "      <td>80.0</td>\n",
       "      <td>48.0</td>\n",
       "      <td>316.0</td>\n",
       "    </tr>\n",
       "    <tr>\n",
       "      <th>2</th>\n",
       "      <td>2018-01-01</td>\n",
       "      <td>United Airlines</td>\n",
       "      <td>2413</td>\n",
       "      <td>ORD</td>\n",
       "      <td>BTV</td>\n",
       "      <td>2114</td>\n",
       "      <td>2230.0</td>\n",
       "      <td>76.0</td>\n",
       "      <td>14.0</td>\n",
       "      <td>2244.0</td>\n",
       "      <td>...</td>\n",
       "      <td>5.0</td>\n",
       "      <td>15</td>\n",
       "      <td>128.0</td>\n",
       "      <td>73.0</td>\n",
       "      <td>0.0</td>\n",
       "      <td>0.0</td>\n",
       "      <td>121.0</td>\n",
       "      <td>118.0</td>\n",
       "      <td>99.0</td>\n",
       "      <td>763.0</td>\n",
       "    </tr>\n",
       "    <tr>\n",
       "      <th>3</th>\n",
       "      <td>2018-01-01</td>\n",
       "      <td>United Airlines</td>\n",
       "      <td>2412</td>\n",
       "      <td>MCO</td>\n",
       "      <td>LAX</td>\n",
       "      <td>653</td>\n",
       "      <td>747.0</td>\n",
       "      <td>54.0</td>\n",
       "      <td>14.0</td>\n",
       "      <td>801.0</td>\n",
       "      <td>...</td>\n",
       "      <td>22.0</td>\n",
       "      <td>930</td>\n",
       "      <td>1025.0</td>\n",
       "      <td>55.0</td>\n",
       "      <td>0.0</td>\n",
       "      <td>0.0</td>\n",
       "      <td>337.0</td>\n",
       "      <td>338.0</td>\n",
       "      <td>302.0</td>\n",
       "      <td>2218.0</td>\n",
       "    </tr>\n",
       "    <tr>\n",
       "      <th>4</th>\n",
       "      <td>2018-01-01</td>\n",
       "      <td>United Airlines</td>\n",
       "      <td>2411</td>\n",
       "      <td>EWR</td>\n",
       "      <td>SMF</td>\n",
       "      <td>1810</td>\n",
       "      <td>1922.0</td>\n",
       "      <td>72.0</td>\n",
       "      <td>16.0</td>\n",
       "      <td>1938.0</td>\n",
       "      <td>...</td>\n",
       "      <td>4.0</td>\n",
       "      <td>2136</td>\n",
       "      <td>2201.0</td>\n",
       "      <td>25.0</td>\n",
       "      <td>0.0</td>\n",
       "      <td>0.0</td>\n",
       "      <td>386.0</td>\n",
       "      <td>339.0</td>\n",
       "      <td>319.0</td>\n",
       "      <td>2500.0</td>\n",
       "    </tr>\n",
       "  </tbody>\n",
       "</table>\n",
       "<p>5 rows × 21 columns</p>\n",
       "</div>"
      ],
      "text/plain": [
       "      FL_DATE       OP_CARRIER OP_CARRIER_FL_NUM ORIGIN DEST  CRS_DEP_TIME  \\\n",
       "0  2018-01-01  United Airlines              2424    ORD  ALB           630   \n",
       "1  2018-01-01  United Airlines              2416    ORD  CLE          2059   \n",
       "2  2018-01-01  United Airlines              2413    ORD  BTV          2114   \n",
       "3  2018-01-01  United Airlines              2412    MCO  LAX           653   \n",
       "4  2018-01-01  United Airlines              2411    EWR  SMF          1810   \n",
       "\n",
       "   DEP_TIME  DEP_DELAY  TAXI_OUT  WHEELS_OFF  ...  TAXI_IN  CRS_ARR_TIME  \\\n",
       "0     650.0       20.0      13.0       703.0  ...     10.0           922   \n",
       "1    2300.0      121.0      24.0      2324.0  ...      8.0          2311   \n",
       "2    2230.0       76.0      14.0      2244.0  ...      5.0            15   \n",
       "3     747.0       54.0      14.0       801.0  ...     22.0           930   \n",
       "4    1922.0       72.0      16.0      1938.0  ...      4.0          2136   \n",
       "\n",
       "   ARR_TIME  ARR_DELAY  CANCELLED  DIVERTED  CRS_ELAPSED_TIME  \\\n",
       "0     936.0       14.0        0.0       0.0             112.0   \n",
       "1     120.0      129.0        0.0       0.0              72.0   \n",
       "2     128.0       73.0        0.0       0.0             121.0   \n",
       "3    1025.0       55.0        0.0       0.0             337.0   \n",
       "4    2201.0       25.0        0.0       0.0             386.0   \n",
       "\n",
       "   ACTUAL_ELAPSED_TIME  AIR_TIME  DISTANCE  \n",
       "0                106.0      83.0     723.0  \n",
       "1                 80.0      48.0     316.0  \n",
       "2                118.0      99.0     763.0  \n",
       "3                338.0     302.0    2218.0  \n",
       "4                339.0     319.0    2500.0  \n",
       "\n",
       "[5 rows x 21 columns]"
      ]
     },
     "execution_count": 58,
     "metadata": {},
     "output_type": "execute_result"
    }
   ],
   "source": [
    "delay_Pandas = delay.toPandas()\n",
    "delay_Pandas.head()"
   ]
  },
  {
   "cell_type": "code",
   "execution_count": 59,
   "id": "6a0be1b5-a177-4311-bb18-c0b203945564",
   "metadata": {
    "scrolled": true
   },
   "outputs": [],
   "source": [
    "delay_Pandas.to_csv('E:\\ProjectCDAC\\Processed_df_18.csv')"
   ]
  },
  {
   "cell_type": "code",
   "execution_count": 60,
   "id": "bc17a426-083f-40af-b2ff-f349556a9432",
   "metadata": {},
   "outputs": [],
   "source": [
    "import matplotlib.pyplot as plt"
   ]
  },
  {
   "cell_type": "code",
   "execution_count": 61,
   "id": "d1e19f44-0d23-44cf-aadf-b314e4ae4afa",
   "metadata": {},
   "outputs": [
    {
     "data": {
      "image/png": "[encoded data removed]",
      "text/plain": [
       "<Figure size 2000x600 with 1 Axes>"
      ]
     },
     "metadata": {},
     "output_type": "display_data"
    }
   ],
   "source": [
    "import pandas as pd\n",
    "import pyspark.sql.functions as F\n",
    "\n",
    "\n",
    "# group by airline and count the number of flights\n",
    "flight_counts = df.groupBy('OP_CARRIER').agg(F.count('*').alias('flight_count'))\n",
    "\n",
    "# convert the PySpark DataFrame to a Pandas DataFrame\n",
    "flight_counts_pd = flight_counts.toPandas()\n",
    "\n",
    "# generate the bar plot using Pandas' plot method\n",
    "flight_counts_pd.plot.bar(x='OP_CARRIER', y='flight_count', figsize=(20,6))\n",
    "plt.title('Delays by AIRLINES', fontsize=16)\n",
    "plt.xlabel('Airline', fontsize=14)\n",
    "plt.ylabel('Number of flights', fontsize=14)\n",
    "plt.show()"
   ]
  },
  {
   "cell_type": "code",
   "execution_count": 62,
   "id": "9e8b8455-4441-431f-aa25-c9a86676663c",
   "metadata": {},
   "outputs": [
    {
     "name": "stdout",
     "output_type": "stream",
     "text": [
      "FL_DATE ------------- > 0.0\n",
      "OP_CARRIER ---------- > 0.0\n",
      "OP_CARRIER_FL_NUM --- > 0.0\n",
      "ORIGIN -------------- > 0.0\n",
      "DEST ---------------- > 0.0\n",
      "CRS_DEP_TIME -------- > 0.0\n",
      "DEP_TIME ------------ > 1.5570505414471807\n",
      "DEP_DELAY ----------- > 1.6252149111534209\n",
      "TAXI_OUT ------------ > 1.6057512595228411\n",
      "WHEELS_OFF ---------- > 1.605737396523104\n",
      "WHEELS_ON ----------- > 1.653107266624024\n",
      "TAXI_IN ------------- > 1.653107266624024\n",
      "CRS_ARR_TIME -------- > 0.0\n",
      "ARR_TIME ------------ > 1.653093403624287\n",
      "ARR_DELAY ----------- > 1.8997854839420716\n",
      "CANCELLED ----------- > 0.0\n",
      "DIVERTED ------------ > 0.0\n",
      "CRS_ELAPSED_TIME ---- > 0.00013862999736880265\n",
      "ACTUAL_ELAPSED_TIME - > 1.8637694106256566\n",
      "AIR_TIME ------------ > 1.8637694106256566\n",
      "DISTANCE ------------ > 0.0\n"
     ]
    }
   ],
   "source": [
    "null_values(df)"
   ]
  },
  {
   "cell_type": "code",
   "execution_count": 63,
   "id": "7f64015c-1377-4ab5-9cf1-cf5c77910150",
   "metadata": {},
   "outputs": [],
   "source": [
    "from pyspark.sql.functions import year\n",
    "from pyspark.sql.functions import month\n",
    "from pyspark.sql.functions import dayofweek"
   ]
  },
  {
   "cell_type": "code",
   "execution_count": 64,
   "id": "63394054-2266-4ec8-81dd-679c9ccdfd08",
   "metadata": {},
   "outputs": [],
   "source": [
    "delay=delay.withColumn('FL_YEAR',year(delay.FL_DATE))\n",
    "delay=delay.withColumn('FL_MONTH',month(delay.FL_DATE))\n",
    "delay=delay.withColumn('FL_DAYOFWEEK',dayofweek(delay.FL_DATE))"
   ]
  },
  {
   "cell_type": "code",
   "execution_count": 65,
   "id": "00be200c-b7da-410c-a612-2dd15da5172a",
   "metadata": {},
   "outputs": [],
   "source": [
    "#Extract day of week and month\n",
    "df=df.withColumn('FL_DAYOFWEEK',dayofweek(df.FL_DATE))\n",
    "df=df.withColumn('FL_MONTH',month(df.FL_DATE))\n",
    "\n",
    "#Cast to double\n",
    "df=df.withColumn(\"FL_MONTH\",col(\"FL_MONTH\").cast('double'))\n",
    "df=df.withColumn(\"FL_DAYOFWEEK\",col(\"FL_DAYOFWEEK\").cast('double'))"
   ]
  },
  {
   "cell_type": "code",
   "execution_count": 66,
   "id": "683071f5-75d2-4ab9-afcb-e62a59d4c5da",
   "metadata": {},
   "outputs": [
    {
     "name": "stdout",
     "output_type": "stream",
     "text": [
      "root\n",
      " |-- FL_DATE: date (nullable = true)\n",
      " |-- OP_CARRIER: string (nullable = true)\n",
      " |-- OP_CARRIER_FL_NUM: string (nullable = true)\n",
      " |-- ORIGIN: string (nullable = true)\n",
      " |-- DEST: string (nullable = true)\n",
      " |-- CRS_DEP_TIME: integer (nullable = true)\n",
      " |-- DEP_TIME: double (nullable = true)\n",
      " |-- DEP_DELAY: double (nullable = true)\n",
      " |-- TAXI_OUT: double (nullable = true)\n",
      " |-- WHEELS_OFF: double (nullable = true)\n",
      " |-- WHEELS_ON: double (nullable = true)\n",
      " |-- TAXI_IN: double (nullable = true)\n",
      " |-- CRS_ARR_TIME: integer (nullable = true)\n",
      " |-- ARR_TIME: double (nullable = true)\n",
      " |-- ARR_DELAY: double (nullable = true)\n",
      " |-- CANCELLED: double (nullable = true)\n",
      " |-- DIVERTED: double (nullable = true)\n",
      " |-- CRS_ELAPSED_TIME: double (nullable = true)\n",
      " |-- ACTUAL_ELAPSED_TIME: double (nullable = true)\n",
      " |-- AIR_TIME: double (nullable = true)\n",
      " |-- DISTANCE: double (nullable = true)\n",
      " |-- FL_DAYOFWEEK: double (nullable = true)\n",
      " |-- FL_MONTH: double (nullable = true)\n",
      "\n"
     ]
    }
   ],
   "source": [
    "df.printSchema()"
   ]
  },
  {
   "cell_type": "code",
   "execution_count": 67,
   "id": "331d6922-2dd4-4d54-a148-1e60c84c3164",
   "metadata": {},
   "outputs": [
    {
     "data": {
      "text/plain": [
       "['FL_DATE',\n",
       " 'OP_CARRIER',\n",
       " 'OP_CARRIER_FL_NUM',\n",
       " 'ORIGIN',\n",
       " 'DEST',\n",
       " 'CRS_DEP_TIME',\n",
       " 'DEP_TIME',\n",
       " 'DEP_DELAY',\n",
       " 'TAXI_OUT',\n",
       " 'WHEELS_OFF',\n",
       " 'WHEELS_ON',\n",
       " 'TAXI_IN',\n",
       " 'CRS_ARR_TIME',\n",
       " 'ARR_TIME',\n",
       " 'ARR_DELAY',\n",
       " 'CANCELLED',\n",
       " 'DIVERTED',\n",
       " 'CRS_ELAPSED_TIME',\n",
       " 'ACTUAL_ELAPSED_TIME',\n",
       " 'AIR_TIME',\n",
       " 'DISTANCE',\n",
       " 'FL_DAYOFWEEK',\n",
       " 'FL_MONTH']"
      ]
     },
     "execution_count": 67,
     "metadata": {},
     "output_type": "execute_result"
    }
   ],
   "source": [
    "df.columns"
   ]
  },
  {
   "cell_type": "code",
   "execution_count": 68,
   "id": "b6bfb27e-dc10-479c-9dee-a947832569b5",
   "metadata": {},
   "outputs": [],
   "source": [
    "del flight_counts_pd"
   ]
  },
  {
   "cell_type": "code",
   "execution_count": 69,
   "id": "8365b962-c873-4398-bc42-35a52ed91124",
   "metadata": {},
   "outputs": [],
   "source": [
    "df3=df.toPandas()"
   ]
  },
  {
   "cell_type": "code",
   "execution_count": 70,
   "id": "fd545cd6-0dad-49c7-95da-dced6553999a",
   "metadata": {},
   "outputs": [
    {
     "data": {
      "text/html": [
       "<div>\n",
       "<style scoped>\n",
       "    .dataframe tbody tr th:only-of-type {\n",
       "        vertical-align: middle;\n",
       "    }\n",
       "\n",
       "    .dataframe tbody tr th {\n",
       "        vertical-align: top;\n",
       "    }\n",
       "\n",
       "    .dataframe thead th {\n",
       "        text-align: right;\n",
       "    }\n",
       "</style>\n",
       "<table border=\"1\" class=\"dataframe\">\n",
       "  <thead>\n",
       "    <tr style=\"text-align: right;\">\n",
       "      <th></th>\n",
       "      <th>CRS_DEP_TIME</th>\n",
       "      <th>DEP_TIME</th>\n",
       "      <th>DEP_DELAY</th>\n",
       "      <th>TAXI_OUT</th>\n",
       "      <th>WHEELS_OFF</th>\n",
       "      <th>WHEELS_ON</th>\n",
       "      <th>TAXI_IN</th>\n",
       "      <th>CRS_ARR_TIME</th>\n",
       "      <th>ARR_TIME</th>\n",
       "      <th>ARR_DELAY</th>\n",
       "      <th>CANCELLED</th>\n",
       "      <th>DIVERTED</th>\n",
       "      <th>CRS_ELAPSED_TIME</th>\n",
       "      <th>ACTUAL_ELAPSED_TIME</th>\n",
       "      <th>AIR_TIME</th>\n",
       "      <th>DISTANCE</th>\n",
       "      <th>FL_DAYOFWEEK</th>\n",
       "      <th>FL_MONTH</th>\n",
       "    </tr>\n",
       "  </thead>\n",
       "  <tbody>\n",
       "    <tr>\n",
       "      <th>count</th>\n",
       "      <td>7.213446e+06</td>\n",
       "      <td>7.101129e+06</td>\n",
       "      <td>7.096212e+06</td>\n",
       "      <td>7.097616e+06</td>\n",
       "      <td>7.097617e+06</td>\n",
       "      <td>7.094200e+06</td>\n",
       "      <td>7.094200e+06</td>\n",
       "      <td>7.213446e+06</td>\n",
       "      <td>7.094201e+06</td>\n",
       "      <td>7.076406e+06</td>\n",
       "      <td>7.213446e+06</td>\n",
       "      <td>7.213446e+06</td>\n",
       "      <td>7.213436e+06</td>\n",
       "      <td>7.079004e+06</td>\n",
       "      <td>7.079004e+06</td>\n",
       "      <td>7.213446e+06</td>\n",
       "      <td>7.213446e+06</td>\n",
       "      <td>7.213446e+06</td>\n",
       "    </tr>\n",
       "    <tr>\n",
       "      <th>mean</th>\n",
       "      <td>1.329687e+03</td>\n",
       "      <td>1.333854e+03</td>\n",
       "      <td>1.661643e-01</td>\n",
       "      <td>1.741061e+01</td>\n",
       "      <td>1.357799e+03</td>\n",
       "      <td>1.462162e+03</td>\n",
       "      <td>7.601246e+00</td>\n",
       "      <td>1.486341e+03</td>\n",
       "      <td>1.466784e+03</td>\n",
       "      <td>8.414301e-02</td>\n",
       "      <td>1.616204e-02</td>\n",
       "      <td>2.475793e-03</td>\n",
       "      <td>1.411356e+02</td>\n",
       "      <td>1.364999e+02</td>\n",
       "      <td>1.115020e+02</td>\n",
       "      <td>7.999895e+02</td>\n",
       "      <td>3.942412e+00</td>\n",
       "      <td>6.564521e+00</td>\n",
       "    </tr>\n",
       "    <tr>\n",
       "      <th>std</th>\n",
       "      <td>4.909320e+02</td>\n",
       "      <td>5.045055e+02</td>\n",
       "      <td>7.471607e-01</td>\n",
       "      <td>9.920409e+00</td>\n",
       "      <td>5.059721e+02</td>\n",
       "      <td>5.334675e+02</td>\n",
       "      <td>6.064797e+00</td>\n",
       "      <td>5.183124e+02</td>\n",
       "      <td>5.377089e+02</td>\n",
       "      <td>7.821106e-01</td>\n",
       "      <td>1.260985e-01</td>\n",
       "      <td>4.969571e-02</td>\n",
       "      <td>7.334433e+01</td>\n",
       "      <td>7.313758e+01</td>\n",
       "      <td>7.111293e+01</td>\n",
       "      <td>5.981783e+02</td>\n",
       "      <td>1.964044e+00</td>\n",
       "      <td>3.395780e+00</td>\n",
       "    </tr>\n",
       "    <tr>\n",
       "      <th>min</th>\n",
       "      <td>1.000000e+00</td>\n",
       "      <td>1.000000e+00</td>\n",
       "      <td>-2.033333e+00</td>\n",
       "      <td>1.000000e+00</td>\n",
       "      <td>1.000000e+00</td>\n",
       "      <td>1.000000e+00</td>\n",
       "      <td>1.000000e+00</td>\n",
       "      <td>1.000000e+00</td>\n",
       "      <td>1.000000e+00</td>\n",
       "      <td>-2.000000e+00</td>\n",
       "      <td>0.000000e+00</td>\n",
       "      <td>0.000000e+00</td>\n",
       "      <td>-9.900000e+01</td>\n",
       "      <td>1.400000e+01</td>\n",
       "      <td>7.000000e+00</td>\n",
       "      <td>3.100000e+01</td>\n",
       "      <td>1.000000e+00</td>\n",
       "      <td>1.000000e+00</td>\n",
       "    </tr>\n",
       "    <tr>\n",
       "      <th>25%</th>\n",
       "      <td>9.150000e+02</td>\n",
       "      <td>9.160000e+02</td>\n",
       "      <td>-8.333333e-02</td>\n",
       "      <td>1.100000e+01</td>\n",
       "      <td>9.320000e+02</td>\n",
       "      <td>1.044000e+03</td>\n",
       "      <td>4.000000e+00</td>\n",
       "      <td>1.100000e+03</td>\n",
       "      <td>1.049000e+03</td>\n",
       "      <td>-2.333333e-01</td>\n",
       "      <td>0.000000e+00</td>\n",
       "      <td>0.000000e+00</td>\n",
       "      <td>8.800000e+01</td>\n",
       "      <td>8.300000e+01</td>\n",
       "      <td>6.000000e+01</td>\n",
       "      <td>3.630000e+02</td>\n",
       "      <td>2.000000e+00</td>\n",
       "      <td>4.000000e+00</td>\n",
       "    </tr>\n",
       "    <tr>\n",
       "      <th>50%</th>\n",
       "      <td>1.320000e+03</td>\n",
       "      <td>1.326000e+03</td>\n",
       "      <td>-3.333333e-02</td>\n",
       "      <td>1.500000e+01</td>\n",
       "      <td>1.340000e+03</td>\n",
       "      <td>1.502000e+03</td>\n",
       "      <td>6.000000e+00</td>\n",
       "      <td>1.515000e+03</td>\n",
       "      <td>1.506000e+03</td>\n",
       "      <td>-1.000000e-01</td>\n",
       "      <td>0.000000e+00</td>\n",
       "      <td>0.000000e+00</td>\n",
       "      <td>1.220000e+02</td>\n",
       "      <td>1.180000e+02</td>\n",
       "      <td>9.200000e+01</td>\n",
       "      <td>6.320000e+02</td>\n",
       "      <td>4.000000e+00</td>\n",
       "      <td>7.000000e+00</td>\n",
       "    </tr>\n",
       "    <tr>\n",
       "      <th>75%</th>\n",
       "      <td>1.735000e+03</td>\n",
       "      <td>1.744000e+03</td>\n",
       "      <td>1.166667e-01</td>\n",
       "      <td>2.000000e+01</td>\n",
       "      <td>1.759000e+03</td>\n",
       "      <td>1.911000e+03</td>\n",
       "      <td>9.000000e+00</td>\n",
       "      <td>1.919000e+03</td>\n",
       "      <td>1.916000e+03</td>\n",
       "      <td>1.333333e-01</td>\n",
       "      <td>0.000000e+00</td>\n",
       "      <td>0.000000e+00</td>\n",
       "      <td>1.710000e+02</td>\n",
       "      <td>1.670000e+02</td>\n",
       "      <td>1.410000e+02</td>\n",
       "      <td>1.034000e+03</td>\n",
       "      <td>6.000000e+00</td>\n",
       "      <td>9.000000e+00</td>\n",
       "    </tr>\n",
       "    <tr>\n",
       "      <th>max</th>\n",
       "      <td>2.359000e+03</td>\n",
       "      <td>2.400000e+03</td>\n",
       "      <td>4.516667e+01</td>\n",
       "      <td>1.960000e+02</td>\n",
       "      <td>2.400000e+03</td>\n",
       "      <td>2.400000e+03</td>\n",
       "      <td>2.590000e+02</td>\n",
       "      <td>2.400000e+03</td>\n",
       "      <td>2.400000e+03</td>\n",
       "      <td>4.486667e+01</td>\n",
       "      <td>1.000000e+00</td>\n",
       "      <td>1.000000e+00</td>\n",
       "      <td>7.040000e+02</td>\n",
       "      <td>7.570000e+02</td>\n",
       "      <td>6.960000e+02</td>\n",
       "      <td>4.983000e+03</td>\n",
       "      <td>7.000000e+00</td>\n",
       "      <td>1.200000e+01</td>\n",
       "    </tr>\n",
       "  </tbody>\n",
       "</table>\n",
       "</div>"
      ],
      "text/plain": [
       "       CRS_DEP_TIME      DEP_TIME     DEP_DELAY      TAXI_OUT    WHEELS_OFF  \\\n",
       "count  7.213446e+06  7.101129e+06  7.096212e+06  7.097616e+06  7.097617e+06   \n",
       "mean   1.329687e+03  1.333854e+03  1.661643e-01  1.741061e+01  1.357799e+03   \n",
       "std    4.909320e+02  5.045055e+02  7.471607e-01  9.920409e+00  5.059721e+02   \n",
       "min    1.000000e+00  1.000000e+00 -2.033333e+00  1.000000e+00  1.000000e+00   \n",
       "25%    9.150000e+02  9.160000e+02 -8.333333e-02  1.100000e+01  9.320000e+02   \n",
       "50%    1.320000e+03  1.326000e+03 -3.333333e-02  1.500000e+01  1.340000e+03   \n",
       "75%    1.735000e+03  1.744000e+03  1.166667e-01  2.000000e+01  1.759000e+03   \n",
       "max    2.359000e+03  2.400000e+03  4.516667e+01  1.960000e+02  2.400000e+03   \n",
       "\n",
       "          WHEELS_ON       TAXI_IN  CRS_ARR_TIME      ARR_TIME     ARR_DELAY  \\\n",
       "count  7.094200e+06  7.094200e+06  7.213446e+06  7.094201e+06  7.076406e+06   \n",
       "mean   1.462162e+03  7.601246e+00  1.486341e+03  1.466784e+03  8.414301e-02   \n",
       "std    5.334675e+02  6.064797e+00  5.183124e+02  5.377089e+02  7.821106e-01   \n",
       "min    1.000000e+00  1.000000e+00  1.000000e+00  1.000000e+00 -2.000000e+00   \n",
       "25%    1.044000e+03  4.000000e+00  1.100000e+03  1.049000e+03 -2.333333e-01   \n",
       "50%    1.502000e+03  6.000000e+00  1.515000e+03  1.506000e+03 -1.000000e-01   \n",
       "75%    1.911000e+03  9.000000e+00  1.919000e+03  1.916000e+03  1.333333e-01   \n",
       "max    2.400000e+03  2.590000e+02  2.400000e+03  2.400000e+03  4.486667e+01   \n",
       "\n",
       "          CANCELLED      DIVERTED  CRS_ELAPSED_TIME  ACTUAL_ELAPSED_TIME  \\\n",
       "count  7.213446e+06  7.213446e+06      7.213436e+06         7.079004e+06   \n",
       "mean   1.616204e-02  2.475793e-03      1.411356e+02         1.364999e+02   \n",
       "std    1.260985e-01  4.969571e-02      7.334433e+01         7.313758e+01   \n",
       "min    0.000000e+00  0.000000e+00     -9.900000e+01         1.400000e+01   \n",
       "25%    0.000000e+00  0.000000e+00      8.800000e+01         8.300000e+01   \n",
       "50%    0.000000e+00  0.000000e+00      1.220000e+02         1.180000e+02   \n",
       "75%    0.000000e+00  0.000000e+00      1.710000e+02         1.670000e+02   \n",
       "max    1.000000e+00  1.000000e+00      7.040000e+02         7.570000e+02   \n",
       "\n",
       "           AIR_TIME      DISTANCE  FL_DAYOFWEEK      FL_MONTH  \n",
       "count  7.079004e+06  7.213446e+06  7.213446e+06  7.213446e+06  \n",
       "mean   1.115020e+02  7.999895e+02  3.942412e+00  6.564521e+00  \n",
       "std    7.111293e+01  5.981783e+02  1.964044e+00  3.395780e+00  \n",
       "min    7.000000e+00  3.100000e+01  1.000000e+00  1.000000e+00  \n",
       "25%    6.000000e+01  3.630000e+02  2.000000e+00  4.000000e+00  \n",
       "50%    9.200000e+01  6.320000e+02  4.000000e+00  7.000000e+00  \n",
       "75%    1.410000e+02  1.034000e+03  6.000000e+00  9.000000e+00  \n",
       "max    6.960000e+02  4.983000e+03  7.000000e+00  1.200000e+01  "
      ]
     },
     "execution_count": 70,
     "metadata": {},
     "output_type": "execute_result"
    }
   ],
   "source": [
    "df3.describe()"
   ]
  },
  {
   "cell_type": "code",
   "execution_count": 73,
   "id": "2f192d97-e7da-4b5a-89ff-af491f5db516",
   "metadata": {},
   "outputs": [
    {
     "data": {
      "text/plain": [
       "FL_DATE                0.000000\n",
       "OP_CARRIER             0.000000\n",
       "OP_CARRIER_FL_NUM      0.000000\n",
       "ORIGIN                 0.000000\n",
       "DEST                   0.000000\n",
       "CRS_DEP_TIME           0.000000\n",
       "DEP_TIME               1.557051\n",
       "DEP_DELAY              1.625215\n",
       "TAXI_OUT               1.605751\n",
       "WHEELS_OFF             1.605737\n",
       "WHEELS_ON              1.653107\n",
       "TAXI_IN                1.653107\n",
       "CRS_ARR_TIME           0.000000\n",
       "ARR_TIME               1.653093\n",
       "ARR_DELAY              1.899785\n",
       "CANCELLED              0.000000\n",
       "DIVERTED               0.000000\n",
       "CRS_ELAPSED_TIME       0.000139\n",
       "ACTUAL_ELAPSED_TIME    1.863769\n",
       "AIR_TIME               1.863769\n",
       "DISTANCE               0.000000\n",
       "FL_DAYOFWEEK           0.000000\n",
       "FL_MONTH               0.000000\n",
       "dtype: float64"
      ]
     },
     "execution_count": 73,
     "metadata": {},
     "output_type": "execute_result"
    }
   ],
   "source": [
    "df3.isnull().sum()*100/len(df3)"
   ]
  },
  {
   "cell_type": "code",
   "execution_count": 74,
   "id": "b4ec8aa2-3611-46c1-bda8-04a06fb0dc64",
   "metadata": {},
   "outputs": [
    {
     "data": {
      "text/plain": [
       "FL_DATE                 object\n",
       "OP_CARRIER              object\n",
       "OP_CARRIER_FL_NUM       object\n",
       "ORIGIN                  object\n",
       "DEST                    object\n",
       "CRS_DEP_TIME             int32\n",
       "DEP_TIME               float64\n",
       "DEP_DELAY              float64\n",
       "TAXI_OUT               float64\n",
       "WHEELS_OFF             float64\n",
       "WHEELS_ON              float64\n",
       "TAXI_IN                float64\n",
       "CRS_ARR_TIME             int32\n",
       "ARR_TIME               float64\n",
       "ARR_DELAY              float64\n",
       "CANCELLED              float64\n",
       "DIVERTED               float64\n",
       "CRS_ELAPSED_TIME       float64\n",
       "ACTUAL_ELAPSED_TIME    float64\n",
       "AIR_TIME               float64\n",
       "DISTANCE               float64\n",
       "FL_DAYOFWEEK           float64\n",
       "FL_MONTH               float64\n",
       "dtype: object"
      ]
     },
     "execution_count": 74,
     "metadata": {},
     "output_type": "execute_result"
    }
   ],
   "source": [
    "df3.dtypes"
   ]
  },
  {
   "cell_type": "code",
   "execution_count": 75,
   "id": "9af1bab0-2734-4282-b209-3e998cdc2c7a",
   "metadata": {},
   "outputs": [
    {
     "data": {
      "text/plain": [
       "Index(['FL_DATE', 'OP_CARRIER', 'OP_CARRIER_FL_NUM', 'ORIGIN', 'DEST',\n",
       "       'CRS_DEP_TIME', 'DEP_TIME', 'DEP_DELAY', 'TAXI_OUT', 'WHEELS_OFF',\n",
       "       'WHEELS_ON', 'TAXI_IN', 'CRS_ARR_TIME', 'ARR_TIME', 'ARR_DELAY',\n",
       "       'CANCELLED', 'DIVERTED', 'CRS_ELAPSED_TIME', 'ACTUAL_ELAPSED_TIME',\n",
       "       'AIR_TIME', 'DISTANCE', 'FL_DAYOFWEEK', 'FL_MONTH'],\n",
       "      dtype='object')"
      ]
     },
     "execution_count": 75,
     "metadata": {},
     "output_type": "execute_result"
    }
   ],
   "source": [
    "df3.columns"
   ]
  },
  {
   "cell_type": "code",
   "execution_count": 76,
   "id": "268ef548-70e8-444e-9b13-05eebf79e14c",
   "metadata": {},
   "outputs": [
    {
     "name": "stdout",
     "output_type": "stream",
     "text": [
      "Index(['CRS_DEP_TIME', 'DEP_TIME', 'DEP_DELAY', 'TAXI_OUT', 'WHEELS_OFF',\n",
      "       'WHEELS_ON', 'TAXI_IN', 'CRS_ARR_TIME', 'ARR_TIME', 'ARR_DELAY',\n",
      "       'CANCELLED', 'DIVERTED', 'CRS_ELAPSED_TIME', 'ACTUAL_ELAPSED_TIME',\n",
      "       'AIR_TIME', 'DISTANCE', 'FL_DAYOFWEEK', 'FL_MONTH'],\n",
      "      dtype='object')\n"
     ]
    }
   ],
   "source": [
    "print(df3.select_dtypes(exclude=object).columns)"
   ]
  },
  {
   "cell_type": "code",
   "execution_count": 77,
   "id": "a4a740b3-1eb0-4faf-a84e-d1283cf9a9bd",
   "metadata": {},
   "outputs": [],
   "source": [
    "numeric=[]"
   ]
  },
  {
   "cell_type": "code",
   "execution_count": 78,
   "id": "a4657350-9982-4308-ae2c-932b756f43e4",
   "metadata": {},
   "outputs": [],
   "source": [
    "for i in df3.select_dtypes(exclude=object).columns:\n",
    "    numeric.append(i)"
   ]
  },
  {
   "cell_type": "code",
   "execution_count": 79,
   "id": "d37e8441-e2ef-4859-a60f-221c5aadec66",
   "metadata": {},
   "outputs": [
    {
     "data": {
      "text/plain": [
       "<Axes: >"
      ]
     },
     "execution_count": 79,
     "metadata": {},
     "output_type": "execute_result"
    },
    {
     "data": {
      "image/png": "[encoded data removed]",
      "text/plain": [
       "<Figure size 1500x900 with 2 Axes>"
      ]
     },
     "metadata": {},
     "output_type": "display_data"
    }
   ],
   "source": [
    "plt.figure(figsize=(15,9))\n",
    "sns.heatmap(df3[numeric].corr(),annot=True)"
   ]
  },
  {
   "cell_type": "code",
   "execution_count": 80,
   "id": "24d7d81b-30f0-4655-8621-db32261fab6c",
   "metadata": {},
   "outputs": [
    {
     "data": {
      "text/plain": [
       "FL_DATE                0.000000\n",
       "OP_CARRIER             0.000000\n",
       "OP_CARRIER_FL_NUM      0.000000\n",
       "ORIGIN                 0.000000\n",
       "DEST                   0.000000\n",
       "CRS_DEP_TIME           0.000000\n",
       "DEP_TIME               1.557051\n",
       "DEP_DELAY              1.625215\n",
       "TAXI_OUT               1.605751\n",
       "WHEELS_OFF             1.605737\n",
       "WHEELS_ON              1.653107\n",
       "TAXI_IN                1.653107\n",
       "CRS_ARR_TIME           0.000000\n",
       "ARR_TIME               1.653093\n",
       "ARR_DELAY              1.899785\n",
       "CANCELLED              0.000000\n",
       "DIVERTED               0.000000\n",
       "CRS_ELAPSED_TIME       0.000139\n",
       "ACTUAL_ELAPSED_TIME    1.863769\n",
       "AIR_TIME               1.863769\n",
       "DISTANCE               0.000000\n",
       "FL_DAYOFWEEK           0.000000\n",
       "FL_MONTH               0.000000\n",
       "dtype: float64"
      ]
     },
     "execution_count": 80,
     "metadata": {},
     "output_type": "execute_result"
    }
   ],
   "source": [
    "df3.isnull().sum()*100/len(df3)"
   ]
  },
  {
   "cell_type": "code",
   "execution_count": 81,
   "id": "79723da4-3d6f-4b43-bb3f-de908f4ab099",
   "metadata": {},
   "outputs": [],
   "source": [
    "# Spark SQL"
   ]
  },
  {
   "cell_type": "code",
   "execution_count": 82,
   "id": "830acda5-af76-4888-b610-726302ade74f",
   "metadata": {},
   "outputs": [
    {
     "data": {
      "text/html": [
       "<div>\n",
       "<style scoped>\n",
       "    .dataframe tbody tr th:only-of-type {\n",
       "        vertical-align: middle;\n",
       "    }\n",
       "\n",
       "    .dataframe tbody tr th {\n",
       "        vertical-align: top;\n",
       "    }\n",
       "\n",
       "    .dataframe thead th {\n",
       "        text-align: right;\n",
       "    }\n",
       "</style>\n",
       "<table border=\"1\" class=\"dataframe\">\n",
       "  <thead>\n",
       "    <tr style=\"text-align: right;\">\n",
       "      <th></th>\n",
       "      <th>FL_DATE</th>\n",
       "      <th>OP_CARRIER</th>\n",
       "      <th>OP_CARRIER_FL_NUM</th>\n",
       "      <th>ORIGIN</th>\n",
       "      <th>DEST</th>\n",
       "      <th>CRS_DEP_TIME</th>\n",
       "      <th>DEP_TIME</th>\n",
       "      <th>DEP_DELAY</th>\n",
       "      <th>TAXI_OUT</th>\n",
       "      <th>WHEELS_OFF</th>\n",
       "      <th>...</th>\n",
       "      <th>ARR_TIME</th>\n",
       "      <th>ARR_DELAY</th>\n",
       "      <th>CANCELLED</th>\n",
       "      <th>DIVERTED</th>\n",
       "      <th>CRS_ELAPSED_TIME</th>\n",
       "      <th>ACTUAL_ELAPSED_TIME</th>\n",
       "      <th>AIR_TIME</th>\n",
       "      <th>DISTANCE</th>\n",
       "      <th>FL_DAYOFWEEK</th>\n",
       "      <th>FL_MONTH</th>\n",
       "    </tr>\n",
       "  </thead>\n",
       "  <tbody>\n",
       "    <tr>\n",
       "      <th>178</th>\n",
       "      <td>2018-01-01</td>\n",
       "      <td>United Airlines</td>\n",
       "      <td>2034</td>\n",
       "      <td>IAH</td>\n",
       "      <td>MFE</td>\n",
       "      <td>1440</td>\n",
       "      <td>NaN</td>\n",
       "      <td>NaN</td>\n",
       "      <td>NaN</td>\n",
       "      <td>NaN</td>\n",
       "      <td>...</td>\n",
       "      <td>NaN</td>\n",
       "      <td>NaN</td>\n",
       "      <td>1.0</td>\n",
       "      <td>0.0</td>\n",
       "      <td>81.0</td>\n",
       "      <td>NaN</td>\n",
       "      <td>NaN</td>\n",
       "      <td>316.0</td>\n",
       "      <td>2.0</td>\n",
       "      <td>1.0</td>\n",
       "    </tr>\n",
       "    <tr>\n",
       "      <th>875</th>\n",
       "      <td>2018-01-01</td>\n",
       "      <td>United Airlines</td>\n",
       "      <td>864</td>\n",
       "      <td>LAS</td>\n",
       "      <td>SFO</td>\n",
       "      <td>1744</td>\n",
       "      <td>NaN</td>\n",
       "      <td>NaN</td>\n",
       "      <td>NaN</td>\n",
       "      <td>NaN</td>\n",
       "      <td>...</td>\n",
       "      <td>NaN</td>\n",
       "      <td>NaN</td>\n",
       "      <td>1.0</td>\n",
       "      <td>0.0</td>\n",
       "      <td>102.0</td>\n",
       "      <td>NaN</td>\n",
       "      <td>NaN</td>\n",
       "      <td>414.0</td>\n",
       "      <td>2.0</td>\n",
       "      <td>1.0</td>\n",
       "    </tr>\n",
       "    <tr>\n",
       "      <th>1244</th>\n",
       "      <td>2018-01-01</td>\n",
       "      <td>United Airlines</td>\n",
       "      <td>488</td>\n",
       "      <td>MFE</td>\n",
       "      <td>IAH</td>\n",
       "      <td>1726</td>\n",
       "      <td>NaN</td>\n",
       "      <td>NaN</td>\n",
       "      <td>NaN</td>\n",
       "      <td>NaN</td>\n",
       "      <td>...</td>\n",
       "      <td>NaN</td>\n",
       "      <td>NaN</td>\n",
       "      <td>1.0</td>\n",
       "      <td>0.0</td>\n",
       "      <td>78.0</td>\n",
       "      <td>NaN</td>\n",
       "      <td>NaN</td>\n",
       "      <td>316.0</td>\n",
       "      <td>2.0</td>\n",
       "      <td>1.0</td>\n",
       "    </tr>\n",
       "    <tr>\n",
       "      <th>1584</th>\n",
       "      <td>2018-01-01</td>\n",
       "      <td>Alaska Airlines</td>\n",
       "      <td>5</td>\n",
       "      <td>DCA</td>\n",
       "      <td>LAX</td>\n",
       "      <td>910</td>\n",
       "      <td>NaN</td>\n",
       "      <td>NaN</td>\n",
       "      <td>NaN</td>\n",
       "      <td>NaN</td>\n",
       "      <td>...</td>\n",
       "      <td>NaN</td>\n",
       "      <td>NaN</td>\n",
       "      <td>1.0</td>\n",
       "      <td>0.0</td>\n",
       "      <td>380.0</td>\n",
       "      <td>NaN</td>\n",
       "      <td>NaN</td>\n",
       "      <td>2311.0</td>\n",
       "      <td>2.0</td>\n",
       "      <td>1.0</td>\n",
       "    </tr>\n",
       "    <tr>\n",
       "      <th>1639</th>\n",
       "      <td>2018-01-01</td>\n",
       "      <td>Alaska Airlines</td>\n",
       "      <td>64</td>\n",
       "      <td>WRG</td>\n",
       "      <td>KTN</td>\n",
       "      <td>1623</td>\n",
       "      <td>NaN</td>\n",
       "      <td>NaN</td>\n",
       "      <td>NaN</td>\n",
       "      <td>NaN</td>\n",
       "      <td>...</td>\n",
       "      <td>NaN</td>\n",
       "      <td>NaN</td>\n",
       "      <td>1.0</td>\n",
       "      <td>0.0</td>\n",
       "      <td>32.0</td>\n",
       "      <td>NaN</td>\n",
       "      <td>NaN</td>\n",
       "      <td>82.0</td>\n",
       "      <td>2.0</td>\n",
       "      <td>1.0</td>\n",
       "    </tr>\n",
       "    <tr>\n",
       "      <th>...</th>\n",
       "      <td>...</td>\n",
       "      <td>...</td>\n",
       "      <td>...</td>\n",
       "      <td>...</td>\n",
       "      <td>...</td>\n",
       "      <td>...</td>\n",
       "      <td>...</td>\n",
       "      <td>...</td>\n",
       "      <td>...</td>\n",
       "      <td>...</td>\n",
       "      <td>...</td>\n",
       "      <td>...</td>\n",
       "      <td>...</td>\n",
       "      <td>...</td>\n",
       "      <td>...</td>\n",
       "      <td>...</td>\n",
       "      <td>...</td>\n",
       "      <td>...</td>\n",
       "      <td>...</td>\n",
       "      <td>...</td>\n",
       "      <td>...</td>\n",
       "    </tr>\n",
       "    <tr>\n",
       "      <th>7212477</th>\n",
       "      <td>2018-12-31</td>\n",
       "      <td>SkyWest Airlines</td>\n",
       "      <td>7365</td>\n",
       "      <td>ABR</td>\n",
       "      <td>MSP</td>\n",
       "      <td>500</td>\n",
       "      <td>NaN</td>\n",
       "      <td>NaN</td>\n",
       "      <td>NaN</td>\n",
       "      <td>NaN</td>\n",
       "      <td>...</td>\n",
       "      <td>NaN</td>\n",
       "      <td>NaN</td>\n",
       "      <td>1.0</td>\n",
       "      <td>0.0</td>\n",
       "      <td>80.0</td>\n",
       "      <td>NaN</td>\n",
       "      <td>NaN</td>\n",
       "      <td>257.0</td>\n",
       "      <td>2.0</td>\n",
       "      <td>12.0</td>\n",
       "    </tr>\n",
       "    <tr>\n",
       "      <th>7212757</th>\n",
       "      <td>2018-12-31</td>\n",
       "      <td>American Airlines</td>\n",
       "      <td>147</td>\n",
       "      <td>LAX</td>\n",
       "      <td>EGE</td>\n",
       "      <td>840</td>\n",
       "      <td>839.0</td>\n",
       "      <td>-0.016667</td>\n",
       "      <td>NaN</td>\n",
       "      <td>NaN</td>\n",
       "      <td>...</td>\n",
       "      <td>NaN</td>\n",
       "      <td>NaN</td>\n",
       "      <td>1.0</td>\n",
       "      <td>0.0</td>\n",
       "      <td>145.0</td>\n",
       "      <td>NaN</td>\n",
       "      <td>NaN</td>\n",
       "      <td>748.0</td>\n",
       "      <td>2.0</td>\n",
       "      <td>12.0</td>\n",
       "    </tr>\n",
       "    <tr>\n",
       "      <th>7212759</th>\n",
       "      <td>2018-12-31</td>\n",
       "      <td>American Airlines</td>\n",
       "      <td>149</td>\n",
       "      <td>EGE</td>\n",
       "      <td>LAX</td>\n",
       "      <td>1444</td>\n",
       "      <td>NaN</td>\n",
       "      <td>NaN</td>\n",
       "      <td>NaN</td>\n",
       "      <td>NaN</td>\n",
       "      <td>...</td>\n",
       "      <td>NaN</td>\n",
       "      <td>NaN</td>\n",
       "      <td>1.0</td>\n",
       "      <td>0.0</td>\n",
       "      <td>142.0</td>\n",
       "      <td>NaN</td>\n",
       "      <td>NaN</td>\n",
       "      <td>748.0</td>\n",
       "      <td>2.0</td>\n",
       "      <td>12.0</td>\n",
       "    </tr>\n",
       "    <tr>\n",
       "      <th>7212772</th>\n",
       "      <td>2018-12-31</td>\n",
       "      <td>American Airlines</td>\n",
       "      <td>165</td>\n",
       "      <td>DFW</td>\n",
       "      <td>EGE</td>\n",
       "      <td>845</td>\n",
       "      <td>836.0</td>\n",
       "      <td>-0.150000</td>\n",
       "      <td>10.0</td>\n",
       "      <td>846.0</td>\n",
       "      <td>...</td>\n",
       "      <td>NaN</td>\n",
       "      <td>NaN</td>\n",
       "      <td>1.0</td>\n",
       "      <td>0.0</td>\n",
       "      <td>154.0</td>\n",
       "      <td>NaN</td>\n",
       "      <td>NaN</td>\n",
       "      <td>721.0</td>\n",
       "      <td>2.0</td>\n",
       "      <td>12.0</td>\n",
       "    </tr>\n",
       "    <tr>\n",
       "      <th>7212773</th>\n",
       "      <td>2018-12-31</td>\n",
       "      <td>American Airlines</td>\n",
       "      <td>165</td>\n",
       "      <td>EGE</td>\n",
       "      <td>DFW</td>\n",
       "      <td>1059</td>\n",
       "      <td>NaN</td>\n",
       "      <td>NaN</td>\n",
       "      <td>NaN</td>\n",
       "      <td>NaN</td>\n",
       "      <td>...</td>\n",
       "      <td>NaN</td>\n",
       "      <td>NaN</td>\n",
       "      <td>1.0</td>\n",
       "      <td>0.0</td>\n",
       "      <td>131.0</td>\n",
       "      <td>NaN</td>\n",
       "      <td>NaN</td>\n",
       "      <td>721.0</td>\n",
       "      <td>2.0</td>\n",
       "      <td>12.0</td>\n",
       "    </tr>\n",
       "  </tbody>\n",
       "</table>\n",
       "<p>116584 rows × 23 columns</p>\n",
       "</div>"
      ],
      "text/plain": [
       "            FL_DATE         OP_CARRIER OP_CARRIER_FL_NUM ORIGIN DEST  \\\n",
       "178      2018-01-01    United Airlines              2034    IAH  MFE   \n",
       "875      2018-01-01    United Airlines               864    LAS  SFO   \n",
       "1244     2018-01-01    United Airlines               488    MFE  IAH   \n",
       "1584     2018-01-01    Alaska Airlines                 5    DCA  LAX   \n",
       "1639     2018-01-01    Alaska Airlines                64    WRG  KTN   \n",
       "...             ...                ...               ...    ...  ...   \n",
       "7212477  2018-12-31   SkyWest Airlines              7365    ABR  MSP   \n",
       "7212757  2018-12-31  American Airlines               147    LAX  EGE   \n",
       "7212759  2018-12-31  American Airlines               149    EGE  LAX   \n",
       "7212772  2018-12-31  American Airlines               165    DFW  EGE   \n",
       "7212773  2018-12-31  American Airlines               165    EGE  DFW   \n",
       "\n",
       "         CRS_DEP_TIME  DEP_TIME  DEP_DELAY  TAXI_OUT  WHEELS_OFF  ...  \\\n",
       "178              1440       NaN        NaN       NaN         NaN  ...   \n",
       "875              1744       NaN        NaN       NaN         NaN  ...   \n",
       "1244             1726       NaN        NaN       NaN         NaN  ...   \n",
       "1584              910       NaN        NaN       NaN         NaN  ...   \n",
       "1639             1623       NaN        NaN       NaN         NaN  ...   \n",
       "...               ...       ...        ...       ...         ...  ...   \n",
       "7212477           500       NaN        NaN       NaN         NaN  ...   \n",
       "7212757           840     839.0  -0.016667       NaN         NaN  ...   \n",
       "7212759          1444       NaN        NaN       NaN         NaN  ...   \n",
       "7212772           845     836.0  -0.150000      10.0       846.0  ...   \n",
       "7212773          1059       NaN        NaN       NaN         NaN  ...   \n",
       "\n",
       "         ARR_TIME  ARR_DELAY  CANCELLED  DIVERTED  CRS_ELAPSED_TIME  \\\n",
       "178           NaN        NaN        1.0       0.0              81.0   \n",
       "875           NaN        NaN        1.0       0.0             102.0   \n",
       "1244          NaN        NaN        1.0       0.0              78.0   \n",
       "1584          NaN        NaN        1.0       0.0             380.0   \n",
       "1639          NaN        NaN        1.0       0.0              32.0   \n",
       "...           ...        ...        ...       ...               ...   \n",
       "7212477       NaN        NaN        1.0       0.0              80.0   \n",
       "7212757       NaN        NaN        1.0       0.0             145.0   \n",
       "7212759       NaN        NaN        1.0       0.0             142.0   \n",
       "7212772       NaN        NaN        1.0       0.0             154.0   \n",
       "7212773       NaN        NaN        1.0       0.0             131.0   \n",
       "\n",
       "         ACTUAL_ELAPSED_TIME  AIR_TIME  DISTANCE  FL_DAYOFWEEK  FL_MONTH  \n",
       "178                      NaN       NaN     316.0           2.0       1.0  \n",
       "875                      NaN       NaN     414.0           2.0       1.0  \n",
       "1244                     NaN       NaN     316.0           2.0       1.0  \n",
       "1584                     NaN       NaN    2311.0           2.0       1.0  \n",
       "1639                     NaN       NaN      82.0           2.0       1.0  \n",
       "...                      ...       ...       ...           ...       ...  \n",
       "7212477                  NaN       NaN     257.0           2.0      12.0  \n",
       "7212757                  NaN       NaN     748.0           2.0      12.0  \n",
       "7212759                  NaN       NaN     748.0           2.0      12.0  \n",
       "7212772                  NaN       NaN     721.0           2.0      12.0  \n",
       "7212773                  NaN       NaN     721.0           2.0      12.0  \n",
       "\n",
       "[116584 rows x 23 columns]"
      ]
     },
     "execution_count": 82,
     "metadata": {},
     "output_type": "execute_result"
    }
   ],
   "source": [
    "df3[df3['CANCELLED']==1]"
   ]
  },
  {
   "cell_type": "code",
   "execution_count": 83,
   "id": "eee8b6b2-155c-49be-bb6d-8dd28559d89d",
   "metadata": {},
   "outputs": [
    {
     "data": {
      "text/plain": [
       "FL_DATE                0.000000\n",
       "OP_CARRIER             0.000000\n",
       "OP_CARRIER_FL_NUM      0.000000\n",
       "ORIGIN                 0.000000\n",
       "DEST                   0.000000\n",
       "CRS_DEP_TIME           0.000000\n",
       "DEP_TIME               1.581678\n",
       "DEP_DELAY              1.652065\n",
       "TAXI_OUT               1.631956\n",
       "WHEELS_OFF             1.631942\n",
       "WHEELS_ON              1.680894\n",
       "TAXI_IN                1.680894\n",
       "CRS_ARR_TIME           0.000000\n",
       "ARR_TIME               1.680880\n",
       "ARR_DELAY              1.936576\n",
       "CANCELLED              0.000000\n",
       "DIVERTED               0.000000\n",
       "CRS_ELAPSED_TIME       0.000139\n",
       "ACTUAL_ELAPSED_TIME    1.899165\n",
       "AIR_TIME               1.899165\n",
       "DISTANCE               0.000000\n",
       "FL_DAYOFWEEK           0.000000\n",
       "FL_MONTH               0.000000\n",
       "dtype: float64"
      ]
     },
     "execution_count": 83,
     "metadata": {},
     "output_type": "execute_result"
    }
   ],
   "source": [
    "(df3.isnull().sum()/df3.count())*100"
   ]
  },
  {
   "cell_type": "code",
   "execution_count": 84,
   "id": "3872029a-9b5f-4bf7-a899-7a2324c35d5e",
   "metadata": {},
   "outputs": [],
   "source": [
    "from pyspark.sql.functions import mean, when, col\n"
   ]
  },
  {
   "cell_type": "code",
   "execution_count": 85,
   "id": "f2f5a929-8901-437e-ae73-1b3856dfb8eb",
   "metadata": {},
   "outputs": [],
   "source": [
    "selected_columns = ['DEP_TIME', 'DEP_DELAY', 'TAXI_OUT', 'WHEELS_OFF', 'WHEELS_ON', 'TAXI_IN', 'ARR_TIME', 'ARR_DELAY', 'ACTUAL_ELAPSED_TIME', 'AIR_TIME', 'CRS_ELAPSED_TIME']\n",
    "\n",
    "# Calculate means for selected columns\n",
    "mean_values = df.select([mean(col(column)).alias(column) for column in selected_columns]).collect()[0].asDict()\n",
    "\n",
    "# Impute missing values with means\n",
    "for column in selected_columns:\n",
    "    df = df.withColumn(column, when(col(column).isNull(), mean_values[column]).otherwise(col(column)))\n"
   ]
  },
  {
   "cell_type": "code",
   "execution_count": 86,
   "id": "7340dc4f-07a6-4ce7-95d7-9a54d4afd37b",
   "metadata": {},
   "outputs": [],
   "source": [
    "del df3\n"
   ]
  },
  {
   "cell_type": "code",
   "execution_count": 87,
   "id": "4130413d-ab68-470a-b1c3-6b77e825337c",
   "metadata": {},
   "outputs": [],
   "source": [
    "df3=df.toPandas()"
   ]
  },
  {
   "cell_type": "code",
   "execution_count": 88,
   "id": "9bc71ced-022a-43f6-93cc-513e49e63e2a",
   "metadata": {},
   "outputs": [
    {
     "data": {
      "text/plain": [
       "<Axes: >"
      ]
     },
     "execution_count": 88,
     "metadata": {},
     "output_type": "execute_result"
    },
    {
     "data": {
      "image/png": "[encoded data removed]",
      "text/plain": [
       "<Figure size 1500x900 with 2 Axes>"
      ]
     },
     "metadata": {},
     "output_type": "display_data"
    }
   ],
   "source": [
    "plt.figure(figsize=(15,9))\n",
    "sns.heatmap(df3[numeric].corr(),annot=True)"
   ]
  },
  {
   "cell_type": "code",
   "execution_count": 89,
   "id": "86b0ba3b-2f4a-4326-8f60-51338b93797d",
   "metadata": {},
   "outputs": [],
   "source": [
    "# import pandas as pd\n",
    "\n",
    "# # Assuming df is your pandas DataFrame\n",
    "# # List of columns where you want to fill missing values\n",
    "# columns_to_fill = ['DEP_TIME', 'DEP_DELAY', 'TAXI_OUT', 'WHEELS_OFF', 'WHEELS_ON', 'TAXI_IN', 'ARR_TIME', 'ARR_DELAY', 'ACTUAL_ELAPSED_TIME', 'AIR_TIME','CRS_ELAPSED_TIME']\n",
    "\n",
    "# # Calculate the mean of each column with missing values\n",
    "# mean_values = df3[columns_to_fill].mean()\n",
    "\n",
    "# # Fill missing values with their respective mean values\n",
    "# df3[columns_to_fill] = df3[columns_to_fill].fillna(mean_values)\n",
    "\n",
    "# # Now, df contains missing values in the specified columns filled with their respective means.\n"
   ]
  },
  {
   "cell_type": "code",
   "execution_count": 90,
   "id": "eef2d91d-dcd1-49d5-b73f-19e2312bcb12",
   "metadata": {},
   "outputs": [
    {
     "data": {
      "text/plain": [
       "FL_DATE                0.0\n",
       "OP_CARRIER             0.0\n",
       "OP_CARRIER_FL_NUM      0.0\n",
       "ORIGIN                 0.0\n",
       "DEST                   0.0\n",
       "CRS_DEP_TIME           0.0\n",
       "DEP_TIME               0.0\n",
       "DEP_DELAY              0.0\n",
       "TAXI_OUT               0.0\n",
       "WHEELS_OFF             0.0\n",
       "WHEELS_ON              0.0\n",
       "TAXI_IN                0.0\n",
       "CRS_ARR_TIME           0.0\n",
       "ARR_TIME               0.0\n",
       "ARR_DELAY              0.0\n",
       "CANCELLED              0.0\n",
       "DIVERTED               0.0\n",
       "CRS_ELAPSED_TIME       0.0\n",
       "ACTUAL_ELAPSED_TIME    0.0\n",
       "AIR_TIME               0.0\n",
       "DISTANCE               0.0\n",
       "FL_DAYOFWEEK           0.0\n",
       "FL_MONTH               0.0\n",
       "dtype: float64"
      ]
     },
     "execution_count": 90,
     "metadata": {},
     "output_type": "execute_result"
    }
   ],
   "source": [
    "(df3.isnull().sum()/df3.count())*100"
   ]
  },
  {
   "cell_type": "code",
   "execution_count": 92,
   "id": "24e50894-265d-4830-8bfb-b81f811535a5",
   "metadata": {},
   "outputs": [
    {
     "ename": "NameError",
     "evalue": "name 'df3' is not defined",
     "output_type": "error",
     "traceback": [
      "\u001b[1;31m---------------------------------------------------------------------------\u001b[0m",
      "\u001b[1;31mNameError\u001b[0m                                 Traceback (most recent call last)",
      "Cell \u001b[1;32mIn[92], line 1\u001b[0m\n\u001b[1;32m----> 1\u001b[0m \u001b[38;5;28;01mdel\u001b[39;00m \u001b[43mdf3\u001b[49m\n",
      "\u001b[1;31mNameError\u001b[0m: name 'df3' is not defined"
     ]
    }
   ],
   "source": [
    "del df3"
   ]
  },
  {
   "cell_type": "code",
   "execution_count": 93,
   "id": "d43ab208-b1fc-4917-b9a0-946788a9bcff",
   "metadata": {},
   "outputs": [],
   "source": [
    "df.createOrReplaceTempView(\"df\")"
   ]
  },
  {
   "cell_type": "code",
   "execution_count": 94,
   "id": "a9f26f9b-7a49-4637-b992-d2e9566f39f5",
   "metadata": {},
   "outputs": [],
   "source": [
    "# Number Of Flights Cancelled in Each Month from 2018."
   ]
  },
  {
   "cell_type": "code",
   "execution_count": 95,
   "id": "987c6022-fe17-4f44-ba79-041ae59b00f8",
   "metadata": {},
   "outputs": [
    {
     "name": "stdout",
     "output_type": "stream",
     "text": [
      "+--------+---------------+\n",
      "|FL_MONTH|TOTAL_CANCELLED|\n",
      "+--------+---------------+\n",
      "|     1.0|          17169|\n",
      "|     2.0|           8976|\n",
      "|     3.0|          17280|\n",
      "|     4.0|           6251|\n",
      "|     5.0|           7155|\n",
      "|     6.0|          10694|\n",
      "|     7.0|          11083|\n",
      "|     8.0|          12353|\n",
      "|     9.0|           8132|\n",
      "|    10.0|           4485|\n",
      "|    11.0|           6254|\n",
      "|    12.0|           6752|\n",
      "+--------+---------------+\n",
      "\n"
     ]
    }
   ],
   "source": [
    "spark.sql(\"\"\"\n",
    " SELECT FL_MONTH, COUNT(CANCELLED) AS TOTAL_CANCELLED\n",
    " FROM df\n",
    " WHERE CANCELLED = 1\n",
    " GROUP BY FL_MONTH\n",
    " ORDER BY FL_MONTH\n",
    " LIMIT 50\n",
    "\"\"\").show()"
   ]
  },
  {
   "cell_type": "code",
   "execution_count": 96,
   "id": "a7433ca2-1eb0-4b0f-a906-98585cf030a6",
   "metadata": {},
   "outputs": [],
   "source": [
    "# Number Of Flights Detoured in Each Month in 2018"
   ]
  },
  {
   "cell_type": "code",
   "execution_count": 97,
   "id": "f0f2598f-71cb-44e5-91bf-3fce78312e4b",
   "metadata": {},
   "outputs": [
    {
     "name": "stdout",
     "output_type": "stream",
     "text": [
      "+------+----------------+-----------------+\n",
      "|origin|count(cancelled)|       op_carrier|\n",
      "+------+----------------+-----------------+\n",
      "|   SLC|              16|     Mesa Airline|\n",
      "|   PWM|              62|       ExpressJet|\n",
      "|   TOL|              14| SkyWest Airlines|\n",
      "|   HNL|              15|American Airlines|\n",
      "|   ROW|               1|     Mesa Airline|\n",
      "|   MIA|              39|Frontier Airlines|\n",
      "|   MYR|              15|   Delta Airlines|\n",
      "|   BTR|              77|       ExpressJet|\n",
      "|   CMH|              20|     Mesa Airline|\n",
      "|   GSP|              11|   Delta Airlines|\n",
      "|   EUG|              12| SkyWest Airlines|\n",
      "|   PIT|              30|     Mesa Airline|\n",
      "|   AUS|              13| Republic Airways|\n",
      "|   FAR|               8|       ExpressJet|\n",
      "|   EVV|               7| SkyWest Airlines|\n",
      "|   GSO|              66|       ExpressJet|\n",
      "|   CLT|              55| SkyWest Airlines|\n",
      "|   GGG|              29|        Envoy Air|\n",
      "|   DEN|             199|Frontier Airlines|\n",
      "|   MKG|              39| SkyWest Airlines|\n",
      "+------+----------------+-----------------+\n",
      "only showing top 20 rows\n",
      "\n"
     ]
    }
   ],
   "source": [
    "spark.sql(\"\"\"\n",
    " SELECT origin, COUNT(cancelled), op_carrier\n",
    " FROM df where cancelled = 1\n",
    " GROUP BY origin, op_carrier\n",
    "\"\"\").show()"
   ]
  },
  {
   "cell_type": "code",
   "execution_count": 98,
   "id": "1b46cf33-59e1-49d5-a298-07cd13788821",
   "metadata": {},
   "outputs": [],
   "source": [
    "# Most cancelled flight"
   ]
  },
  {
   "cell_type": "code",
   "execution_count": 99,
   "id": "6582003a-9b10-41c2-849c-263036b408f6",
   "metadata": {},
   "outputs": [
    {
     "name": "stdout",
     "output_type": "stream",
     "text": [
      "+------------------+-----+\n",
      "|        op_carrier|Total|\n",
      "+------------------+-----+\n",
      "|Southwest Airlines|18275|\n",
      "| American Airlines|14945|\n",
      "|      PSA Airlines|11870|\n",
      "|         Envoy Air|10655|\n",
      "|  SkyWest Airlines|10610|\n",
      "|  Republic Airways|10100|\n",
      "|   JetBlue Airways| 6419|\n",
      "|      Endeavor Air| 6355|\n",
      "|        ExpressJet| 5670|\n",
      "|      Mesa Airline| 5530|\n",
      "+------------------+-----+\n",
      "\n"
     ]
    }
   ],
   "source": [
    "spark.sql(\"\"\" SELECT op_carrier, COUNT(cancelled) AS Total\n",
    "FROM df where cancelled = 1\n",
    "GROUP BY cancelled, op_carrier\n",
    "ORDER BY Total desc\n",
    "LIMIT 10\n",
    "\"\"\").show()"
   ]
  },
  {
   "cell_type": "code",
   "execution_count": 100,
   "id": "ca01a790-80a4-4384-9144-817c07c3b8e2",
   "metadata": {},
   "outputs": [],
   "source": [
    "# No. Of Flights canceled from origin city by airline fights in each year i.e.,2018."
   ]
  },
  {
   "cell_type": "code",
   "execution_count": 101,
   "id": "317c524f-03e0-4674-afcc-d4aed42244cb",
   "metadata": {},
   "outputs": [
    {
     "name": "stdout",
     "output_type": "stream",
     "text": [
      "+------+----------------+-----------------+\n",
      "|origin|count(cancelled)|       op_carrier|\n",
      "+------+----------------+-----------------+\n",
      "|   SLC|              16|     Mesa Airline|\n",
      "|   PWM|              62|       ExpressJet|\n",
      "|   TOL|              14| SkyWest Airlines|\n",
      "|   HNL|              15|American Airlines|\n",
      "|   ROW|               1|     Mesa Airline|\n",
      "|   MIA|              39|Frontier Airlines|\n",
      "|   MYR|              15|   Delta Airlines|\n",
      "|   BTR|              77|       ExpressJet|\n",
      "|   CMH|              20|     Mesa Airline|\n",
      "|   GSP|              11|   Delta Airlines|\n",
      "|   EUG|              12| SkyWest Airlines|\n",
      "|   PIT|              30|     Mesa Airline|\n",
      "|   AUS|              13| Republic Airways|\n",
      "|   FAR|               8|       ExpressJet|\n",
      "|   EVV|               7| SkyWest Airlines|\n",
      "|   GSO|              66|       ExpressJet|\n",
      "|   CLT|              55| SkyWest Airlines|\n",
      "|   GGG|              29|        Envoy Air|\n",
      "|   DEN|             199|Frontier Airlines|\n",
      "|   MKG|              39| SkyWest Airlines|\n",
      "+------+----------------+-----------------+\n",
      "only showing top 20 rows\n",
      "\n"
     ]
    }
   ],
   "source": [
    "spark.sql(\"\"\"\n",
    " SELECT origin, COUNT(cancelled), op_carrier\n",
    " FROM df where cancelled = 1\n",
    " GROUP BY origin, op_carrier\n",
    "\"\"\").show()"
   ]
  },
  {
   "cell_type": "code",
   "execution_count": 102,
   "id": "ce69983c-9e69-4ee3-af59-bee34589e7fc",
   "metadata": {},
   "outputs": [],
   "source": [
    "# Flight has least amount of delay(planed departure = actual departure)"
   ]
  },
  {
   "cell_type": "code",
   "execution_count": 103,
   "id": "ce32992d-7bf1-4beb-be2b-fc62becd1994",
   "metadata": {},
   "outputs": [
    {
     "name": "stdout",
     "output_type": "stream",
     "text": [
      "+-----------------+-------------------+\n",
      "|OP_CARRIER_FL_NUM|          min_delay|\n",
      "+-----------------+-------------------+\n",
      "|             1664| 0.1333333333333333|\n",
      "|              340| 0.1333333333333333|\n",
      "|             2766|0.16666666666666607|\n",
      "|              456|0.23333333333333328|\n",
      "|             1462| 0.2999999999999998|\n",
      "+-----------------+-------------------+\n",
      "\n"
     ]
    }
   ],
   "source": [
    "spark.sql(\"\"\"SELECT OP_CARRIER_FL_NUM, MIN(abs(CRS_DEP_TIME - DEP_DELAY)) AS min_delay\n",
    "FROM df \n",
    "GROUP BY OP_CARRIER_FL_NUM\n",
    "ORDER BY min_delay ASC\n",
    "LIMIT 5\n",
    "\"\"\").show()"
   ]
  },
  {
   "cell_type": "code",
   "execution_count": 104,
   "id": "d5763b51-d362-41fa-aebe-2c2af1e4e959",
   "metadata": {},
   "outputs": [],
   "source": [
    "# Airport has high delay(busy) most of the time"
   ]
  },
  {
   "cell_type": "code",
   "execution_count": 105,
   "id": "f840e557-032c-43a8-aebb-ae3c2ad1f563",
   "metadata": {},
   "outputs": [
    {
     "name": "stdout",
     "output_type": "stream",
     "text": [
      "+------+------------------+\n",
      "|origin|         avg_delay|\n",
      "+------+------------------+\n",
      "|   DVL|1.8820885902128015|\n",
      "+------+------------------+\n",
      "\n"
     ]
    }
   ],
   "source": [
    "spark.sql(\"\"\"SELECT origin, AVG(dep_delay) AS avg_delay\n",
    "FROM df\n",
    "WHERE dep_delay > 0\n",
    "GROUP BY origin\n",
    "ORDER BY avg_delay DESC\n",
    "LIMIT 1\n",
    "\"\"\").show()"
   ]
  },
  {
   "cell_type": "code",
   "execution_count": 106,
   "id": "63e30b51-78d5-4d7a-8b49-2d44dbd7f85a",
   "metadata": {},
   "outputs": [],
   "source": [
    "# Airports having least amount of wheels off time (operations and management is good)"
   ]
  },
  {
   "cell_type": "code",
   "execution_count": 107,
   "id": "f724acef-00a5-464a-845b-621235370436",
   "metadata": {},
   "outputs": [
    {
     "name": "stdout",
     "output_type": "stream",
     "text": [
      "+------+------------------+\n",
      "|origin|       avg_wo_time|\n",
      "+------+------------------+\n",
      "|   SMX|12.064705882352941|\n",
      "|   HYA|12.639832271992384|\n",
      "|   BKG|13.266058372037246|\n",
      "|   OTZ| 13.41587382203996|\n",
      "|   OME|13.586141770186568|\n",
      "|   YAK|13.675139504256542|\n",
      "|   OGD|13.824960890534303|\n",
      "|   BRW| 14.06091600920934|\n",
      "|   LWS|14.136604005867955|\n",
      "|   AKN|14.238095238095237|\n",
      "+------+------------------+\n",
      "\n"
     ]
    }
   ],
   "source": [
    "spark.sql(\"\"\"SELECT origin, avg(abs(wheels_off - DEP_TIME)) AS avg_wo_time\n",
    "FROM df\n",
    "GROUP BY origin\n",
    "ORDER BY avg_wo_time ASC\n",
    "LIMIT 10\n",
    "\"\"\").show()"
   ]
  },
  {
   "cell_type": "code",
   "execution_count": 108,
   "id": "2367195b-aee2-427f-8c5c-143a9f9baf3b",
   "metadata": {},
   "outputs": [],
   "source": [
    "# Airports having high amount of wheels off time (operations and management is bad)"
   ]
  },
  {
   "cell_type": "code",
   "execution_count": 109,
   "id": "d1fb4421-d019-4f07-ac5a-6d3d78498fa5",
   "metadata": {},
   "outputs": [
    {
     "name": "stdout",
     "output_type": "stream",
     "text": [
      "+------+------------------+\n",
      "|origin|       avg_wo_time|\n",
      "+------+------------------+\n",
      "|   PPG|208.65573770491804|\n",
      "|   JMS| 76.40998313603322|\n",
      "|   FAI| 74.13872728769371|\n",
      "|   LAX|  64.1479851316157|\n",
      "|   SFO| 64.10281010266276|\n",
      "|   JFK| 61.49598337564785|\n",
      "|   YNG|              58.5|\n",
      "|   ANC| 57.81740440941658|\n",
      "|   LGA| 48.17481588421418|\n",
      "|   SEA|  48.1143847739563|\n",
      "+------+------------------+\n",
      "\n"
     ]
    }
   ],
   "source": [
    "spark.sql(\"\"\"SELECT origin, avg(abs(wheels_off - DEP_TIME)) AS avg_wo_time\n",
    "FROM df\n",
    "GROUP BY origin\n",
    "ORDER BY avg_wo_time desc\n",
    "LIMIT 10\n",
    "\"\"\").show()"
   ]
  },
  {
   "cell_type": "code",
   "execution_count": 110,
   "id": "a30c400e-7e12-4cd8-885a-be3eec52c410",
   "metadata": {},
   "outputs": [],
   "source": [
    "# Most appropriate time to reach at airport for travelers"
   ]
  },
  {
   "cell_type": "code",
   "execution_count": 111,
   "id": "794df047-3d6a-42e4-b6bb-fc556930417a",
   "metadata": {},
   "outputs": [
    {
     "name": "stdout",
     "output_type": "stream",
     "text": [
      "+-----------------+\n",
      "|       REACH_TIME|\n",
      "+-----------------+\n",
      "|41.05092734351033|\n",
      "+-----------------+\n",
      "\n"
     ]
    }
   ],
   "source": [
    "spark.sql(\"\"\" select sum(abs(CRS_DEP_TIME - DEP_TIME))/count(DEP_TIME) as REACH_TIME from df\"\"\").show()"
   ]
  },
  {
   "cell_type": "code",
   "execution_count": 112,
   "id": "88322157-68d3-4baa-b27d-b41c5f4d74f5",
   "metadata": {},
   "outputs": [],
   "source": [
    "# Feature Transformation"
   ]
  },
  {
   "cell_type": "code",
   "execution_count": 113,
   "id": "8a434b75-fa54-459f-9672-f53abef010b5",
   "metadata": {},
   "outputs": [],
   "source": [
    "#Imbalance"
   ]
  },
  {
   "cell_type": "code",
   "execution_count": 114,
   "id": "a4605f27-d6ce-48e0-bb27-8e4e0e94c6dc",
   "metadata": {},
   "outputs": [],
   "source": [
    "df4=df.toPandas()"
   ]
  },
  {
   "cell_type": "code",
   "execution_count": 117,
   "id": "94788bee-3bb6-4e45-9441-c39a3c2a700f",
   "metadata": {},
   "outputs": [
    {
     "name": "stdout",
     "output_type": "stream",
     "text": [
      "<class 'pandas.core.frame.DataFrame'>\n",
      "RangeIndex: 7213446 entries, 0 to 7213445\n",
      "Data columns (total 23 columns):\n",
      " #   Column               Dtype  \n",
      "---  ------               -----  \n",
      " 0   FL_DATE              object \n",
      " 1   OP_CARRIER           object \n",
      " 2   OP_CARRIER_FL_NUM    object \n",
      " 3   ORIGIN               object \n",
      " 4   DEST                 object \n",
      " 5   CRS_DEP_TIME         int32  \n",
      " 6   DEP_TIME             float64\n",
      " 7   DEP_DELAY            float64\n",
      " 8   TAXI_OUT             float64\n",
      " 9   WHEELS_OFF           float64\n",
      " 10  WHEELS_ON            float64\n",
      " 11  TAXI_IN              float64\n",
      " 12  CRS_ARR_TIME         int32  \n",
      " 13  ARR_TIME             float64\n",
      " 14  ARR_DELAY            float64\n",
      " 15  CANCELLED            float64\n",
      " 16  DIVERTED             float64\n",
      " 17  CRS_ELAPSED_TIME     float64\n",
      " 18  ACTUAL_ELAPSED_TIME  float64\n",
      " 19  AIR_TIME             float64\n",
      " 20  DISTANCE             float64\n",
      " 21  FL_DAYOFWEEK         float64\n",
      " 22  FL_MONTH             float64\n",
      "dtypes: float64(16), int32(2), object(5)\n",
      "memory usage: 1.2+ GB\n"
     ]
    }
   ],
   "source": [
    "df4.info()"
   ]
  },
  {
   "cell_type": "code",
   "execution_count": 118,
   "id": "4122bf6c-f8bb-4faf-b93a-bea243bdb40d",
   "metadata": {},
   "outputs": [],
   "source": [
    "bd1 = delay.withColumn('Delayed', (delay.ARR_DELAY >=10).cast('int'))\n"
   ]
  },
  {
   "cell_type": "code",
   "execution_count": 121,
   "id": "f4e0f7bf-3ca3-440d-90f8-c4ecc5662b88",
   "metadata": {},
   "outputs": [
    {
     "data": {
      "text/html": [
       "<div>\n",
       "<style scoped>\n",
       "    .dataframe tbody tr th:only-of-type {\n",
       "        vertical-align: middle;\n",
       "    }\n",
       "\n",
       "    .dataframe tbody tr th {\n",
       "        vertical-align: top;\n",
       "    }\n",
       "\n",
       "    .dataframe thead th {\n",
       "        text-align: right;\n",
       "    }\n",
       "</style>\n",
       "<table border=\"1\" class=\"dataframe\">\n",
       "  <thead>\n",
       "    <tr style=\"text-align: right;\">\n",
       "      <th></th>\n",
       "      <th>FL_DATE</th>\n",
       "      <th>OP_CARRIER</th>\n",
       "      <th>OP_CARRIER_FL_NUM</th>\n",
       "      <th>ORIGIN</th>\n",
       "      <th>DEST</th>\n",
       "      <th>CRS_DEP_TIME</th>\n",
       "      <th>DEP_TIME</th>\n",
       "      <th>DEP_DELAY</th>\n",
       "      <th>TAXI_OUT</th>\n",
       "      <th>WHEELS_OFF</th>\n",
       "      <th>...</th>\n",
       "      <th>CANCELLED</th>\n",
       "      <th>DIVERTED</th>\n",
       "      <th>CRS_ELAPSED_TIME</th>\n",
       "      <th>ACTUAL_ELAPSED_TIME</th>\n",
       "      <th>AIR_TIME</th>\n",
       "      <th>DISTANCE</th>\n",
       "      <th>FL_YEAR</th>\n",
       "      <th>FL_MONTH</th>\n",
       "      <th>FL_DAYOFWEEK</th>\n",
       "      <th>Delayed</th>\n",
       "    </tr>\n",
       "  </thead>\n",
       "  <tbody>\n",
       "    <tr>\n",
       "      <th>0</th>\n",
       "      <td>2018-01-01</td>\n",
       "      <td>United Airlines</td>\n",
       "      <td>2424</td>\n",
       "      <td>ORD</td>\n",
       "      <td>ALB</td>\n",
       "      <td>630</td>\n",
       "      <td>650.0</td>\n",
       "      <td>20.0</td>\n",
       "      <td>13.0</td>\n",
       "      <td>703.0</td>\n",
       "      <td>...</td>\n",
       "      <td>0.0</td>\n",
       "      <td>0.0</td>\n",
       "      <td>112.0</td>\n",
       "      <td>106.0</td>\n",
       "      <td>83.0</td>\n",
       "      <td>723.0</td>\n",
       "      <td>2018</td>\n",
       "      <td>1</td>\n",
       "      <td>2</td>\n",
       "      <td>1</td>\n",
       "    </tr>\n",
       "    <tr>\n",
       "      <th>1</th>\n",
       "      <td>2018-01-01</td>\n",
       "      <td>United Airlines</td>\n",
       "      <td>2416</td>\n",
       "      <td>ORD</td>\n",
       "      <td>CLE</td>\n",
       "      <td>2059</td>\n",
       "      <td>2300.0</td>\n",
       "      <td>121.0</td>\n",
       "      <td>24.0</td>\n",
       "      <td>2324.0</td>\n",
       "      <td>...</td>\n",
       "      <td>0.0</td>\n",
       "      <td>0.0</td>\n",
       "      <td>72.0</td>\n",
       "      <td>80.0</td>\n",
       "      <td>48.0</td>\n",
       "      <td>316.0</td>\n",
       "      <td>2018</td>\n",
       "      <td>1</td>\n",
       "      <td>2</td>\n",
       "      <td>1</td>\n",
       "    </tr>\n",
       "    <tr>\n",
       "      <th>2</th>\n",
       "      <td>2018-01-01</td>\n",
       "      <td>United Airlines</td>\n",
       "      <td>2413</td>\n",
       "      <td>ORD</td>\n",
       "      <td>BTV</td>\n",
       "      <td>2114</td>\n",
       "      <td>2230.0</td>\n",
       "      <td>76.0</td>\n",
       "      <td>14.0</td>\n",
       "      <td>2244.0</td>\n",
       "      <td>...</td>\n",
       "      <td>0.0</td>\n",
       "      <td>0.0</td>\n",
       "      <td>121.0</td>\n",
       "      <td>118.0</td>\n",
       "      <td>99.0</td>\n",
       "      <td>763.0</td>\n",
       "      <td>2018</td>\n",
       "      <td>1</td>\n",
       "      <td>2</td>\n",
       "      <td>1</td>\n",
       "    </tr>\n",
       "    <tr>\n",
       "      <th>3</th>\n",
       "      <td>2018-01-01</td>\n",
       "      <td>United Airlines</td>\n",
       "      <td>2412</td>\n",
       "      <td>MCO</td>\n",
       "      <td>LAX</td>\n",
       "      <td>653</td>\n",
       "      <td>747.0</td>\n",
       "      <td>54.0</td>\n",
       "      <td>14.0</td>\n",
       "      <td>801.0</td>\n",
       "      <td>...</td>\n",
       "      <td>0.0</td>\n",
       "      <td>0.0</td>\n",
       "      <td>337.0</td>\n",
       "      <td>338.0</td>\n",
       "      <td>302.0</td>\n",
       "      <td>2218.0</td>\n",
       "      <td>2018</td>\n",
       "      <td>1</td>\n",
       "      <td>2</td>\n",
       "      <td>1</td>\n",
       "    </tr>\n",
       "    <tr>\n",
       "      <th>4</th>\n",
       "      <td>2018-01-01</td>\n",
       "      <td>United Airlines</td>\n",
       "      <td>2411</td>\n",
       "      <td>EWR</td>\n",
       "      <td>SMF</td>\n",
       "      <td>1810</td>\n",
       "      <td>1922.0</td>\n",
       "      <td>72.0</td>\n",
       "      <td>16.0</td>\n",
       "      <td>1938.0</td>\n",
       "      <td>...</td>\n",
       "      <td>0.0</td>\n",
       "      <td>0.0</td>\n",
       "      <td>386.0</td>\n",
       "      <td>339.0</td>\n",
       "      <td>319.0</td>\n",
       "      <td>2500.0</td>\n",
       "      <td>2018</td>\n",
       "      <td>1</td>\n",
       "      <td>2</td>\n",
       "      <td>1</td>\n",
       "    </tr>\n",
       "    <tr>\n",
       "      <th>...</th>\n",
       "      <td>...</td>\n",
       "      <td>...</td>\n",
       "      <td>...</td>\n",
       "      <td>...</td>\n",
       "      <td>...</td>\n",
       "      <td>...</td>\n",
       "      <td>...</td>\n",
       "      <td>...</td>\n",
       "      <td>...</td>\n",
       "      <td>...</td>\n",
       "      <td>...</td>\n",
       "      <td>...</td>\n",
       "      <td>...</td>\n",
       "      <td>...</td>\n",
       "      <td>...</td>\n",
       "      <td>...</td>\n",
       "      <td>...</td>\n",
       "      <td>...</td>\n",
       "      <td>...</td>\n",
       "      <td>...</td>\n",
       "      <td>...</td>\n",
       "    </tr>\n",
       "    <tr>\n",
       "      <th>2516045</th>\n",
       "      <td>2018-12-31</td>\n",
       "      <td>American Airlines</td>\n",
       "      <td>1811</td>\n",
       "      <td>CLT</td>\n",
       "      <td>TPA</td>\n",
       "      <td>1644</td>\n",
       "      <td>1639.0</td>\n",
       "      <td>-5.0</td>\n",
       "      <td>40.0</td>\n",
       "      <td>1719.0</td>\n",
       "      <td>...</td>\n",
       "      <td>0.0</td>\n",
       "      <td>0.0</td>\n",
       "      <td>106.0</td>\n",
       "      <td>120.0</td>\n",
       "      <td>77.0</td>\n",
       "      <td>507.0</td>\n",
       "      <td>2018</td>\n",
       "      <td>12</td>\n",
       "      <td>2</td>\n",
       "      <td>0</td>\n",
       "    </tr>\n",
       "    <tr>\n",
       "      <th>2516046</th>\n",
       "      <td>2018-12-31</td>\n",
       "      <td>American Airlines</td>\n",
       "      <td>1814</td>\n",
       "      <td>DFW</td>\n",
       "      <td>PHL</td>\n",
       "      <td>1955</td>\n",
       "      <td>2026.0</td>\n",
       "      <td>31.0</td>\n",
       "      <td>12.0</td>\n",
       "      <td>2038.0</td>\n",
       "      <td>...</td>\n",
       "      <td>0.0</td>\n",
       "      <td>0.0</td>\n",
       "      <td>182.0</td>\n",
       "      <td>160.0</td>\n",
       "      <td>142.0</td>\n",
       "      <td>1303.0</td>\n",
       "      <td>2018</td>\n",
       "      <td>12</td>\n",
       "      <td>2</td>\n",
       "      <td>0</td>\n",
       "    </tr>\n",
       "    <tr>\n",
       "      <th>2516047</th>\n",
       "      <td>2018-12-31</td>\n",
       "      <td>American Airlines</td>\n",
       "      <td>1816</td>\n",
       "      <td>CLT</td>\n",
       "      <td>DFW</td>\n",
       "      <td>1751</td>\n",
       "      <td>1757.0</td>\n",
       "      <td>6.0</td>\n",
       "      <td>18.0</td>\n",
       "      <td>1815.0</td>\n",
       "      <td>...</td>\n",
       "      <td>0.0</td>\n",
       "      <td>0.0</td>\n",
       "      <td>181.0</td>\n",
       "      <td>176.0</td>\n",
       "      <td>148.0</td>\n",
       "      <td>936.0</td>\n",
       "      <td>2018</td>\n",
       "      <td>12</td>\n",
       "      <td>2</td>\n",
       "      <td>0</td>\n",
       "    </tr>\n",
       "    <tr>\n",
       "      <th>2516048</th>\n",
       "      <td>2018-12-31</td>\n",
       "      <td>American Airlines</td>\n",
       "      <td>1817</td>\n",
       "      <td>CLT</td>\n",
       "      <td>MEM</td>\n",
       "      <td>2015</td>\n",
       "      <td>2010.0</td>\n",
       "      <td>-5.0</td>\n",
       "      <td>36.0</td>\n",
       "      <td>2046.0</td>\n",
       "      <td>...</td>\n",
       "      <td>0.0</td>\n",
       "      <td>0.0</td>\n",
       "      <td>112.0</td>\n",
       "      <td>128.0</td>\n",
       "      <td>88.0</td>\n",
       "      <td>511.0</td>\n",
       "      <td>2018</td>\n",
       "      <td>12</td>\n",
       "      <td>2</td>\n",
       "      <td>1</td>\n",
       "    </tr>\n",
       "    <tr>\n",
       "      <th>2516049</th>\n",
       "      <td>2018-12-31</td>\n",
       "      <td>American Airlines</td>\n",
       "      <td>1818</td>\n",
       "      <td>CLT</td>\n",
       "      <td>RDU</td>\n",
       "      <td>1300</td>\n",
       "      <td>1323.0</td>\n",
       "      <td>23.0</td>\n",
       "      <td>11.0</td>\n",
       "      <td>1334.0</td>\n",
       "      <td>...</td>\n",
       "      <td>0.0</td>\n",
       "      <td>0.0</td>\n",
       "      <td>50.0</td>\n",
       "      <td>41.0</td>\n",
       "      <td>26.0</td>\n",
       "      <td>130.0</td>\n",
       "      <td>2018</td>\n",
       "      <td>12</td>\n",
       "      <td>2</td>\n",
       "      <td>1</td>\n",
       "    </tr>\n",
       "  </tbody>\n",
       "</table>\n",
       "<p>2516050 rows × 25 columns</p>\n",
       "</div>"
      ],
      "text/plain": [
       "            FL_DATE         OP_CARRIER OP_CARRIER_FL_NUM ORIGIN DEST  \\\n",
       "0        2018-01-01    United Airlines              2424    ORD  ALB   \n",
       "1        2018-01-01    United Airlines              2416    ORD  CLE   \n",
       "2        2018-01-01    United Airlines              2413    ORD  BTV   \n",
       "3        2018-01-01    United Airlines              2412    MCO  LAX   \n",
       "4        2018-01-01    United Airlines              2411    EWR  SMF   \n",
       "...             ...                ...               ...    ...  ...   \n",
       "2516045  2018-12-31  American Airlines              1811    CLT  TPA   \n",
       "2516046  2018-12-31  American Airlines              1814    DFW  PHL   \n",
       "2516047  2018-12-31  American Airlines              1816    CLT  DFW   \n",
       "2516048  2018-12-31  American Airlines              1817    CLT  MEM   \n",
       "2516049  2018-12-31  American Airlines              1818    CLT  RDU   \n",
       "\n",
       "         CRS_DEP_TIME  DEP_TIME  DEP_DELAY  TAXI_OUT  WHEELS_OFF  ...  \\\n",
       "0                 630     650.0       20.0      13.0       703.0  ...   \n",
       "1                2059    2300.0      121.0      24.0      2324.0  ...   \n",
       "2                2114    2230.0       76.0      14.0      2244.0  ...   \n",
       "3                 653     747.0       54.0      14.0       801.0  ...   \n",
       "4                1810    1922.0       72.0      16.0      1938.0  ...   \n",
       "...               ...       ...        ...       ...         ...  ...   \n",
       "2516045          1644    1639.0       -5.0      40.0      1719.0  ...   \n",
       "2516046          1955    2026.0       31.0      12.0      2038.0  ...   \n",
       "2516047          1751    1757.0        6.0      18.0      1815.0  ...   \n",
       "2516048          2015    2010.0       -5.0      36.0      2046.0  ...   \n",
       "2516049          1300    1323.0       23.0      11.0      1334.0  ...   \n",
       "\n",
       "         CANCELLED  DIVERTED  CRS_ELAPSED_TIME  ACTUAL_ELAPSED_TIME  AIR_TIME  \\\n",
       "0              0.0       0.0             112.0                106.0      83.0   \n",
       "1              0.0       0.0              72.0                 80.0      48.0   \n",
       "2              0.0       0.0             121.0                118.0      99.0   \n",
       "3              0.0       0.0             337.0                338.0     302.0   \n",
       "4              0.0       0.0             386.0                339.0     319.0   \n",
       "...            ...       ...               ...                  ...       ...   \n",
       "2516045        0.0       0.0             106.0                120.0      77.0   \n",
       "2516046        0.0       0.0             182.0                160.0     142.0   \n",
       "2516047        0.0       0.0             181.0                176.0     148.0   \n",
       "2516048        0.0       0.0             112.0                128.0      88.0   \n",
       "2516049        0.0       0.0              50.0                 41.0      26.0   \n",
       "\n",
       "         DISTANCE  FL_YEAR  FL_MONTH  FL_DAYOFWEEK  Delayed  \n",
       "0           723.0     2018         1             2        1  \n",
       "1           316.0     2018         1             2        1  \n",
       "2           763.0     2018         1             2        1  \n",
       "3          2218.0     2018         1             2        1  \n",
       "4          2500.0     2018         1             2        1  \n",
       "...           ...      ...       ...           ...      ...  \n",
       "2516045     507.0     2018        12             2        0  \n",
       "2516046    1303.0     2018        12             2        0  \n",
       "2516047     936.0     2018        12             2        0  \n",
       "2516048     511.0     2018        12             2        1  \n",
       "2516049     130.0     2018        12             2        1  \n",
       "\n",
       "[2516050 rows x 25 columns]"
      ]
     },
     "execution_count": 121,
     "metadata": {},
     "output_type": "execute_result"
    }
   ],
   "source": [
    "bd1.toPandas()"
   ]
  },
  {
   "cell_type": "code",
   "execution_count": 125,
   "id": "ee23438c-fcc3-40de-b254-60b43795e804",
   "metadata": {},
   "outputs": [],
   "source": [
    "ct=bd1.toPandas()"
   ]
  },
  {
   "cell_type": "code",
   "execution_count": 132,
   "id": "0e9f5804-c2ea-4f5b-9549-e936da9f7e5e",
   "metadata": {},
   "outputs": [],
   "source": [
    "#Checking whether our data is imbalanced"
   ]
  },
  {
   "cell_type": "code",
   "execution_count": 133,
   "id": "119c77af-2aba-4d90-9738-2721c6698b16",
   "metadata": {},
   "outputs": [
    {
     "data": {
      "text/plain": [
       "<Axes: xlabel='Delayed', ylabel='count'>"
      ]
     },
     "execution_count": 133,
     "metadata": {},
     "output_type": "execute_result"
    },
    {
     "data": {
      "image/png": "[encoded data removed]",
      "text/plain": [
       "<Figure size 640x480 with 1 Axes>"
      ]
     },
     "metadata": {},
     "output_type": "display_data"
    }
   ],
   "source": [
    "sns.countplot(x='Delayed',data=ct)"
   ]
  },
  {
   "cell_type": "code",
   "execution_count": 145,
   "id": "71314b85-c83c-4500-8a57-d477d06bd66b",
   "metadata": {},
   "outputs": [
    {
     "ename": "NameError",
     "evalue": "name 'ct' is not defined",
     "output_type": "error",
     "traceback": [
      "\u001b[1;31m---------------------------------------------------------------------------\u001b[0m",
      "\u001b[1;31mNameError\u001b[0m                                 Traceback (most recent call last)",
      "Cell \u001b[1;32mIn[145], line 1\u001b[0m\n\u001b[1;32m----> 1\u001b[0m \u001b[38;5;28;01mdel\u001b[39;00m \u001b[43mct\u001b[49m\n",
      "\u001b[1;31mNameError\u001b[0m: name 'ct' is not defined"
     ]
    }
   ],
   "source": [
    "del ct"
   ]
  },
  {
   "cell_type": "code",
   "execution_count": 146,
   "id": "8d8df4b3-2406-4aa5-9330-6b2b8f891cff",
   "metadata": {},
   "outputs": [],
   "source": [
    "bd1 = delay.withColumn('Delayed', (delay.ARR_DELAY >=10).cast('int'))"
   ]
  },
  {
   "cell_type": "code",
   "execution_count": 147,
   "id": "d2729926-b791-445d-b01c-f4bf399ed827",
   "metadata": {},
   "outputs": [
    {
     "name": "stdout",
     "output_type": "stream",
     "text": [
      "+-------+\n",
      "|Delayed|\n",
      "+-------+\n",
      "|      1|\n",
      "|      0|\n",
      "+-------+\n",
      "\n"
     ]
    }
   ],
   "source": [
    "bd1.select('Delayed').distinct().show() # Delayed flights"
   ]
  },
  {
   "cell_type": "code",
   "execution_count": 148,
   "id": "96b46481-3d73-4457-9e86-9a246c38a42f",
   "metadata": {},
   "outputs": [],
   "source": [
    "bd1.createOrReplaceTempView(\"bd1\")\n",
    "\n",
    "# The createOrReplaceTempView() function is a PySpark DataFrame API function \n",
    "# that creates or replaces a temporary view with the specified name in Spark's SQL engine."
   ]
  },
  {
   "cell_type": "code",
   "execution_count": 149,
   "id": "18d6ed68-aca4-44e7-9cb7-b8f083f331d3",
   "metadata": {},
   "outputs": [],
   "source": [
    "bd1 = spark.sql(\"select *, case \\\n",
    "               when DEP_TIME <= 800 then 1 \\\n",
    "               when 800 < DEP_TIME and DEP_TIME <= 1200 then 2 \\\n",
    "               when 1200 < DEP_TIME and DEP_TIME <= 1600 then 3 \\\n",
    "               when 1600 < DEP_TIME and DEP_TIME <= 2100 then 4 \\\n",
    "               else 1 end as TimeSlot \\\n",
    "               from bd1\")"
   ]
  },
  {
   "cell_type": "code",
   "execution_count": 150,
   "id": "44fadb0a-5b29-4430-b511-c9641cc4e69f",
   "metadata": {},
   "outputs": [],
   "source": [
    "from pyspark.ml.feature import StringIndexer"
   ]
  },
  {
   "cell_type": "code",
   "execution_count": 151,
   "id": "a1485d2d-3f52-4043-b5a9-9bb3217178aa",
   "metadata": {},
   "outputs": [
    {
     "name": "stdout",
     "output_type": "stream",
     "text": [
      "+------------------+-------------+------+\n",
      "|        OP_CARRIER|INDEX_CARRIER| count|\n",
      "+------------------+-------------+------+\n",
      "|Southwest Airlines|          0.0|513106|\n",
      "| American Airlines|          1.0|336974|\n",
      "|  SkyWest Airlines|          2.0|265057|\n",
      "|    Delta Airlines|          3.0|261185|\n",
      "|   United Airlines|          4.0|214528|\n",
      "|   JetBlue Airways|          5.0|126936|\n",
      "|      PSA Airlines|          6.0|106844|\n",
      "|         Envoy Air|          7.0|105492|\n",
      "|  Republic Airways|          8.0|100386|\n",
      "|   Alaska Airlines|          9.0| 84597|\n",
      "|      Mesa Airline|         10.0| 79640|\n",
      "|      Endeavor Air|         11.0| 73316|\n",
      "|        ExpressJet|         12.0| 68244|\n",
      "|   Spirit Airlines|         13.0| 56368|\n",
      "| Frontier Airlines|         14.0| 52413|\n",
      "|     Allegiant Air|         15.0| 37177|\n",
      "| Hawaiian Airlines|         16.0| 27449|\n",
      "|    Virgin America|         17.0|  6338|\n",
      "+------------------+-------------+------+\n",
      "\n"
     ]
    }
   ],
   "source": [
    "indexer1 = StringIndexer(inputCol='OP_CARRIER',outputCol='INDEX_CARRIER') \n",
    "bd2=indexer1.fit(bd1).transform(bd1)\n",
    "\n",
    "indexer2 = StringIndexer(inputCol='ORIGIN',outputCol='INDEX_ORIGIN') \n",
    "bd3=indexer2.fit(bd2).transform(bd2)\n",
    "\n",
    "bd3.groupBy('OP_CARRIER','INDEX_CARRIER').count().sort('INDEX_CARRIER').show()"
   ]
  },
  {
   "cell_type": "code",
   "execution_count": 152,
   "id": "3def0c7f-144d-470a-a15f-152cd7c44340",
   "metadata": {},
   "outputs": [
    {
     "data": {
      "text/plain": [
       "-0.0087099126026231"
      ]
     },
     "execution_count": 152,
     "metadata": {},
     "output_type": "execute_result"
    }
   ],
   "source": [
    "from pyspark.sql.functions import *\n",
    "\n",
    "delay.stat.corr('FL_DAYOFWEEK','ARR_DELAY')"
   ]
  },
  {
   "cell_type": "code",
   "execution_count": 153,
   "id": "c8acb05f-79ed-4539-add9-8760cc050f69",
   "metadata": {},
   "outputs": [
    {
     "data": {
      "text/plain": [
       "['FL_DATE',\n",
       " 'OP_CARRIER',\n",
       " 'OP_CARRIER_FL_NUM',\n",
       " 'ORIGIN',\n",
       " 'DEST',\n",
       " 'CRS_DEP_TIME',\n",
       " 'DEP_TIME',\n",
       " 'DEP_DELAY',\n",
       " 'TAXI_OUT',\n",
       " 'WHEELS_OFF',\n",
       " 'WHEELS_ON',\n",
       " 'TAXI_IN',\n",
       " 'CRS_ARR_TIME',\n",
       " 'ARR_TIME',\n",
       " 'ARR_DELAY',\n",
       " 'CANCELLED',\n",
       " 'DIVERTED',\n",
       " 'CRS_ELAPSED_TIME',\n",
       " 'ACTUAL_ELAPSED_TIME',\n",
       " 'AIR_TIME',\n",
       " 'DISTANCE',\n",
       " 'FL_YEAR',\n",
       " 'FL_MONTH',\n",
       " 'FL_DAYOFWEEK']"
      ]
     },
     "execution_count": 153,
     "metadata": {},
     "output_type": "execute_result"
    }
   ],
   "source": [
    "delay.columns"
   ]
  },
  {
   "cell_type": "code",
   "execution_count": 154,
   "id": "ddb7be56-42ae-49a0-ba4d-a6711340ea91",
   "metadata": {},
   "outputs": [
    {
     "data": {
      "text/plain": [
       "-0.008709912602623101"
      ]
     },
     "execution_count": 154,
     "metadata": {},
     "output_type": "execute_result"
    }
   ],
   "source": [
    "from pyspark.sql.functions import *\n",
    "\n",
    "delay.stat.corr('FL_DAYOFWEEK','ARR_DELAY')"
   ]
  },
  {
   "cell_type": "code",
   "execution_count": 155,
   "id": "145694be-ad15-45c1-a9a1-ab33617f64d8",
   "metadata": {},
   "outputs": [
    {
     "data": {
      "text/html": [
       "<div>\n",
       "<style scoped>\n",
       "    .dataframe tbody tr th:only-of-type {\n",
       "        vertical-align: middle;\n",
       "    }\n",
       "\n",
       "    .dataframe tbody tr th {\n",
       "        vertical-align: top;\n",
       "    }\n",
       "\n",
       "    .dataframe thead th {\n",
       "        text-align: right;\n",
       "    }\n",
       "</style>\n",
       "<table border=\"1\" class=\"dataframe\">\n",
       "  <thead>\n",
       "    <tr style=\"text-align: right;\">\n",
       "      <th></th>\n",
       "      <th>DEP_DELAY</th>\n",
       "      <th>DISTANCE</th>\n",
       "      <th>FL_DAYOFWEEK</th>\n",
       "      <th>INDEX_CARRIER</th>\n",
       "      <th>TimeSlot</th>\n",
       "      <th>Delayed</th>\n",
       "      <th>FL_MONTH</th>\n",
       "      <th>ACTUAL_ELAPSED_TIME</th>\n",
       "      <th>INDEX_ORIGIN</th>\n",
       "    </tr>\n",
       "  </thead>\n",
       "  <tbody>\n",
       "    <tr>\n",
       "      <th>0</th>\n",
       "      <td>20.0</td>\n",
       "      <td>723.0</td>\n",
       "      <td>2</td>\n",
       "      <td>4.0</td>\n",
       "      <td>1</td>\n",
       "      <td>1</td>\n",
       "      <td>1</td>\n",
       "      <td>106.0</td>\n",
       "      <td>0.0</td>\n",
       "    </tr>\n",
       "    <tr>\n",
       "      <th>1</th>\n",
       "      <td>121.0</td>\n",
       "      <td>316.0</td>\n",
       "      <td>2</td>\n",
       "      <td>4.0</td>\n",
       "      <td>1</td>\n",
       "      <td>1</td>\n",
       "      <td>1</td>\n",
       "      <td>80.0</td>\n",
       "      <td>0.0</td>\n",
       "    </tr>\n",
       "    <tr>\n",
       "      <th>2</th>\n",
       "      <td>76.0</td>\n",
       "      <td>763.0</td>\n",
       "      <td>2</td>\n",
       "      <td>4.0</td>\n",
       "      <td>1</td>\n",
       "      <td>1</td>\n",
       "      <td>1</td>\n",
       "      <td>118.0</td>\n",
       "      <td>0.0</td>\n",
       "    </tr>\n",
       "    <tr>\n",
       "      <th>3</th>\n",
       "      <td>54.0</td>\n",
       "      <td>2218.0</td>\n",
       "      <td>2</td>\n",
       "      <td>4.0</td>\n",
       "      <td>1</td>\n",
       "      <td>1</td>\n",
       "      <td>1</td>\n",
       "      <td>338.0</td>\n",
       "      <td>13.0</td>\n",
       "    </tr>\n",
       "    <tr>\n",
       "      <th>4</th>\n",
       "      <td>72.0</td>\n",
       "      <td>2500.0</td>\n",
       "      <td>2</td>\n",
       "      <td>4.0</td>\n",
       "      <td>4</td>\n",
       "      <td>1</td>\n",
       "      <td>1</td>\n",
       "      <td>339.0</td>\n",
       "      <td>11.0</td>\n",
       "    </tr>\n",
       "    <tr>\n",
       "      <th>5</th>\n",
       "      <td>47.0</td>\n",
       "      <td>1068.0</td>\n",
       "      <td>2</td>\n",
       "      <td>4.0</td>\n",
       "      <td>3</td>\n",
       "      <td>1</td>\n",
       "      <td>1</td>\n",
       "      <td>149.0</td>\n",
       "      <td>50.0</td>\n",
       "    </tr>\n",
       "    <tr>\n",
       "      <th>6</th>\n",
       "      <td>14.0</td>\n",
       "      <td>631.0</td>\n",
       "      <td>2</td>\n",
       "      <td>4.0</td>\n",
       "      <td>2</td>\n",
       "      <td>0</td>\n",
       "      <td>1</td>\n",
       "      <td>131.0</td>\n",
       "      <td>11.0</td>\n",
       "    </tr>\n",
       "    <tr>\n",
       "      <th>7</th>\n",
       "      <td>8.0</td>\n",
       "      <td>1874.0</td>\n",
       "      <td>2</td>\n",
       "      <td>4.0</td>\n",
       "      <td>3</td>\n",
       "      <td>1</td>\n",
       "      <td>1</td>\n",
       "      <td>262.0</td>\n",
       "      <td>146.0</td>\n",
       "    </tr>\n",
       "    <tr>\n",
       "      <th>8</th>\n",
       "      <td>48.0</td>\n",
       "      <td>1167.0</td>\n",
       "      <td>2</td>\n",
       "      <td>4.0</td>\n",
       "      <td>1</td>\n",
       "      <td>1</td>\n",
       "      <td>1</td>\n",
       "      <td>150.0</td>\n",
       "      <td>36.0</td>\n",
       "    </tr>\n",
       "    <tr>\n",
       "      <th>9</th>\n",
       "      <td>-3.0</td>\n",
       "      <td>1065.0</td>\n",
       "      <td>2</td>\n",
       "      <td>4.0</td>\n",
       "      <td>4</td>\n",
       "      <td>0</td>\n",
       "      <td>1</td>\n",
       "      <td>200.0</td>\n",
       "      <td>11.0</td>\n",
       "    </tr>\n",
       "  </tbody>\n",
       "</table>\n",
       "</div>"
      ],
      "text/plain": [
       "   DEP_DELAY  DISTANCE  FL_DAYOFWEEK  INDEX_CARRIER  TimeSlot  Delayed  \\\n",
       "0       20.0     723.0             2            4.0         1        1   \n",
       "1      121.0     316.0             2            4.0         1        1   \n",
       "2       76.0     763.0             2            4.0         1        1   \n",
       "3       54.0    2218.0             2            4.0         1        1   \n",
       "4       72.0    2500.0             2            4.0         4        1   \n",
       "5       47.0    1068.0             2            4.0         3        1   \n",
       "6       14.0     631.0             2            4.0         2        0   \n",
       "7        8.0    1874.0             2            4.0         3        1   \n",
       "8       48.0    1167.0             2            4.0         1        1   \n",
       "9       -3.0    1065.0             2            4.0         4        0   \n",
       "\n",
       "   FL_MONTH  ACTUAL_ELAPSED_TIME  INDEX_ORIGIN  \n",
       "0         1                106.0           0.0  \n",
       "1         1                 80.0           0.0  \n",
       "2         1                118.0           0.0  \n",
       "3         1                338.0          13.0  \n",
       "4         1                339.0          11.0  \n",
       "5         1                149.0          50.0  \n",
       "6         1                131.0          11.0  \n",
       "7         1                262.0         146.0  \n",
       "8         1                150.0          36.0  \n",
       "9         1                200.0          11.0  "
      ]
     },
     "execution_count": 155,
     "metadata": {},
     "output_type": "execute_result"
    }
   ],
   "source": [
    "bd4=bd3.select('DEP_DELAY',\n",
    "             'DISTANCE', \n",
    "             'FL_DAYOFWEEK',\n",
    "             'INDEX_CARRIER', \n",
    "             'TimeSlot',\n",
    "             'Delayed',\n",
    "             'FL_MONTH',\n",
    "             'ACTUAL_ELAPSED_TIME',\n",
    "             'INDEX_ORIGIN')\n",
    "             \n",
    "bd4.limit(10).toPandas()"
   ]
  },
  {
   "cell_type": "code",
   "execution_count": 156,
   "id": "6f23352a-8b8e-45f4-807c-da0b65fffed4",
   "metadata": {},
   "outputs": [],
   "source": [
    "# Imputing Null values"
   ]
  },
  {
   "cell_type": "code",
   "execution_count": 157,
   "id": "837d3544-e35d-478d-af26-1f3f78a1b2dc",
   "metadata": {},
   "outputs": [],
   "source": [
    "# null_values(bd4)"
   ]
  },
  {
   "cell_type": "code",
   "execution_count": 158,
   "id": "d596194b-cd9e-4bfa-85ac-fbc19e6e1962",
   "metadata": {},
   "outputs": [],
   "source": [
    "from pyspark.ml.feature import Imputer"
   ]
  },
  {
   "cell_type": "code",
   "execution_count": 159,
   "id": "0b9920a0-5712-4fb2-af87-7ee69c41652b",
   "metadata": {},
   "outputs": [],
   "source": [
    "imputer = Imputer(\n",
    "    inputCols = bd4.columns,\n",
    "    outputCols = [\"{}\".format(a) for a in bd4.columns]\n",
    ").setStrategy(\"median\")"
   ]
  },
  {
   "cell_type": "code",
   "execution_count": 160,
   "id": "0ee72a3e-42d5-42f6-838c-971950c61405",
   "metadata": {},
   "outputs": [],
   "source": [
    "\n",
    "b5=imputer.fit(bd4)"
   ]
  },
  {
   "cell_type": "code",
   "execution_count": 161,
   "id": "09221f52-2305-44f2-b65b-d0b786054487",
   "metadata": {},
   "outputs": [],
   "source": [
    "bd6=b5.transform(bd4)"
   ]
  },
  {
   "cell_type": "code",
   "execution_count": 162,
   "id": "959823dc-635c-4f79-a243-7b4b0a610045",
   "metadata": {},
   "outputs": [
    {
     "data": {
      "text/html": [
       "<div>\n",
       "<style scoped>\n",
       "    .dataframe tbody tr th:only-of-type {\n",
       "        vertical-align: middle;\n",
       "    }\n",
       "\n",
       "    .dataframe tbody tr th {\n",
       "        vertical-align: top;\n",
       "    }\n",
       "\n",
       "    .dataframe thead th {\n",
       "        text-align: right;\n",
       "    }\n",
       "</style>\n",
       "<table border=\"1\" class=\"dataframe\">\n",
       "  <thead>\n",
       "    <tr style=\"text-align: right;\">\n",
       "      <th></th>\n",
       "      <th>DEP_DELAY</th>\n",
       "      <th>DISTANCE</th>\n",
       "      <th>FL_DAYOFWEEK</th>\n",
       "      <th>INDEX_CARRIER</th>\n",
       "      <th>TimeSlot</th>\n",
       "      <th>Delayed</th>\n",
       "      <th>FL_MONTH</th>\n",
       "      <th>ACTUAL_ELAPSED_TIME</th>\n",
       "      <th>INDEX_ORIGIN</th>\n",
       "    </tr>\n",
       "  </thead>\n",
       "  <tbody>\n",
       "    <tr>\n",
       "      <th>0</th>\n",
       "      <td>20.0</td>\n",
       "      <td>723.0</td>\n",
       "      <td>2</td>\n",
       "      <td>4.0</td>\n",
       "      <td>1</td>\n",
       "      <td>1</td>\n",
       "      <td>1</td>\n",
       "      <td>106.0</td>\n",
       "      <td>0.0</td>\n",
       "    </tr>\n",
       "    <tr>\n",
       "      <th>1</th>\n",
       "      <td>121.0</td>\n",
       "      <td>316.0</td>\n",
       "      <td>2</td>\n",
       "      <td>4.0</td>\n",
       "      <td>1</td>\n",
       "      <td>1</td>\n",
       "      <td>1</td>\n",
       "      <td>80.0</td>\n",
       "      <td>0.0</td>\n",
       "    </tr>\n",
       "    <tr>\n",
       "      <th>2</th>\n",
       "      <td>76.0</td>\n",
       "      <td>763.0</td>\n",
       "      <td>2</td>\n",
       "      <td>4.0</td>\n",
       "      <td>1</td>\n",
       "      <td>1</td>\n",
       "      <td>1</td>\n",
       "      <td>118.0</td>\n",
       "      <td>0.0</td>\n",
       "    </tr>\n",
       "    <tr>\n",
       "      <th>3</th>\n",
       "      <td>54.0</td>\n",
       "      <td>2218.0</td>\n",
       "      <td>2</td>\n",
       "      <td>4.0</td>\n",
       "      <td>1</td>\n",
       "      <td>1</td>\n",
       "      <td>1</td>\n",
       "      <td>338.0</td>\n",
       "      <td>13.0</td>\n",
       "    </tr>\n",
       "    <tr>\n",
       "      <th>4</th>\n",
       "      <td>72.0</td>\n",
       "      <td>2500.0</td>\n",
       "      <td>2</td>\n",
       "      <td>4.0</td>\n",
       "      <td>4</td>\n",
       "      <td>1</td>\n",
       "      <td>1</td>\n",
       "      <td>339.0</td>\n",
       "      <td>11.0</td>\n",
       "    </tr>\n",
       "    <tr>\n",
       "      <th>5</th>\n",
       "      <td>47.0</td>\n",
       "      <td>1068.0</td>\n",
       "      <td>2</td>\n",
       "      <td>4.0</td>\n",
       "      <td>3</td>\n",
       "      <td>1</td>\n",
       "      <td>1</td>\n",
       "      <td>149.0</td>\n",
       "      <td>50.0</td>\n",
       "    </tr>\n",
       "    <tr>\n",
       "      <th>6</th>\n",
       "      <td>14.0</td>\n",
       "      <td>631.0</td>\n",
       "      <td>2</td>\n",
       "      <td>4.0</td>\n",
       "      <td>2</td>\n",
       "      <td>0</td>\n",
       "      <td>1</td>\n",
       "      <td>131.0</td>\n",
       "      <td>11.0</td>\n",
       "    </tr>\n",
       "    <tr>\n",
       "      <th>7</th>\n",
       "      <td>8.0</td>\n",
       "      <td>1874.0</td>\n",
       "      <td>2</td>\n",
       "      <td>4.0</td>\n",
       "      <td>3</td>\n",
       "      <td>1</td>\n",
       "      <td>1</td>\n",
       "      <td>262.0</td>\n",
       "      <td>146.0</td>\n",
       "    </tr>\n",
       "    <tr>\n",
       "      <th>8</th>\n",
       "      <td>48.0</td>\n",
       "      <td>1167.0</td>\n",
       "      <td>2</td>\n",
       "      <td>4.0</td>\n",
       "      <td>1</td>\n",
       "      <td>1</td>\n",
       "      <td>1</td>\n",
       "      <td>150.0</td>\n",
       "      <td>36.0</td>\n",
       "    </tr>\n",
       "    <tr>\n",
       "      <th>9</th>\n",
       "      <td>-3.0</td>\n",
       "      <td>1065.0</td>\n",
       "      <td>2</td>\n",
       "      <td>4.0</td>\n",
       "      <td>4</td>\n",
       "      <td>0</td>\n",
       "      <td>1</td>\n",
       "      <td>200.0</td>\n",
       "      <td>11.0</td>\n",
       "    </tr>\n",
       "  </tbody>\n",
       "</table>\n",
       "</div>"
      ],
      "text/plain": [
       "   DEP_DELAY  DISTANCE  FL_DAYOFWEEK  INDEX_CARRIER  TimeSlot  Delayed  \\\n",
       "0       20.0     723.0             2            4.0         1        1   \n",
       "1      121.0     316.0             2            4.0         1        1   \n",
       "2       76.0     763.0             2            4.0         1        1   \n",
       "3       54.0    2218.0             2            4.0         1        1   \n",
       "4       72.0    2500.0             2            4.0         4        1   \n",
       "5       47.0    1068.0             2            4.0         3        1   \n",
       "6       14.0     631.0             2            4.0         2        0   \n",
       "7        8.0    1874.0             2            4.0         3        1   \n",
       "8       48.0    1167.0             2            4.0         1        1   \n",
       "9       -3.0    1065.0             2            4.0         4        0   \n",
       "\n",
       "   FL_MONTH  ACTUAL_ELAPSED_TIME  INDEX_ORIGIN  \n",
       "0         1                106.0           0.0  \n",
       "1         1                 80.0           0.0  \n",
       "2         1                118.0           0.0  \n",
       "3         1                338.0          13.0  \n",
       "4         1                339.0          11.0  \n",
       "5         1                149.0          50.0  \n",
       "6         1                131.0          11.0  \n",
       "7         1                262.0         146.0  \n",
       "8         1                150.0          36.0  \n",
       "9         1                200.0          11.0  "
      ]
     },
     "execution_count": 162,
     "metadata": {},
     "output_type": "execute_result"
    }
   ],
   "source": [
    "bd6.limit(10).toPandas()"
   ]
  },
  {
   "cell_type": "code",
   "execution_count": 163,
   "id": "40106f01-fd90-4530-a264-322a0f739c5d",
   "metadata": {},
   "outputs": [],
   "source": [
    "# One Hot Encoding"
   ]
  },
  {
   "cell_type": "code",
   "execution_count": 164,
   "id": "3b046139-2e19-489d-867f-1bb7d6f28268",
   "metadata": {},
   "outputs": [],
   "source": [
    "from pyspark.ml.feature import OneHotEncoder\n",
    "encoder = OneHotEncoder(dropLast=False, inputCol=\"INDEX_ORIGIN\", outputCol=\"VEC_ORIGIN\")\n",
    "bd7 = encoder.fit(bd6).transform(bd6)"
   ]
  },
  {
   "cell_type": "code",
   "execution_count": 165,
   "id": "9bc18e08-f349-49b0-aa26-19a8f891bd89",
   "metadata": {},
   "outputs": [],
   "source": [
    "# Independent and Dependent Variable Creation"
   ]
  },
  {
   "cell_type": "code",
   "execution_count": 166,
   "id": "d31e3acd-17c3-4130-90b6-24c7f14cff6c",
   "metadata": {},
   "outputs": [],
   "source": [
    "from pyspark.ml.feature import VectorAssembler, StringIndexer  \n",
    "from pyspark.sql.functions import col"
   ]
  },
  {
   "cell_type": "code",
   "execution_count": 167,
   "id": "0bbf8ae6-d1c4-4e9e-9415-2094173ed153",
   "metadata": {},
   "outputs": [],
   "source": [
    "a1 = VectorAssembler(  \n",
    "inputCols=['DEP_DELAY',\n",
    "             'DISTANCE', \n",
    "             'FL_DAYOFWEEK',\n",
    "             'INDEX_CARRIER', \n",
    "             'TimeSlot',\n",
    "             'FL_MONTH',\n",
    "             'ACTUAL_ELAPSED_TIME',\n",
    "             'INDEX_ORIGIN'], \n",
    "outputCol='features')"
   ]
  },
  {
   "cell_type": "code",
   "execution_count": 168,
   "id": "b1870d94-c810-4378-afde-8d5673acd179",
   "metadata": {},
   "outputs": [],
   "source": [
    "bd8 = a1.transform(bd7).select(col(\"Delayed\").alias(\"label\"),'features')  \n",
    "bd9 = bd8.select('label','features')"
   ]
  },
  {
   "cell_type": "code",
   "execution_count": 169,
   "id": "0bc0fbad-f6bc-4a76-99d9-23cbe7e39a15",
   "metadata": {},
   "outputs": [
    {
     "name": "stdout",
     "output_type": "stream",
     "text": [
      "+----------------------------------------+\n",
      "|features                                |\n",
      "+----------------------------------------+\n",
      "|[20.0,723.0,2.0,4.0,1.0,1.0,106.0,0.0]  |\n",
      "|[121.0,316.0,2.0,4.0,1.0,1.0,80.0,0.0]  |\n",
      "|[76.0,763.0,2.0,4.0,1.0,1.0,118.0,0.0]  |\n",
      "|[54.0,2218.0,2.0,4.0,1.0,1.0,338.0,13.0]|\n",
      "|[72.0,2500.0,2.0,4.0,4.0,1.0,339.0,11.0]|\n",
      "|[47.0,1068.0,2.0,4.0,3.0,1.0,149.0,50.0]|\n",
      "|[14.0,631.0,2.0,4.0,2.0,1.0,131.0,11.0] |\n",
      "|[8.0,1874.0,2.0,4.0,3.0,1.0,262.0,146.0]|\n",
      "|[48.0,1167.0,2.0,4.0,1.0,1.0,150.0,36.0]|\n",
      "|[-3.0,1065.0,2.0,4.0,4.0,1.0,200.0,11.0]|\n",
      "+----------------------------------------+\n",
      "only showing top 10 rows\n",
      "\n"
     ]
    }
   ],
   "source": [
    "bd9.select('features').show(10,False)"
   ]
  },
  {
   "cell_type": "code",
   "execution_count": 170,
   "id": "6499bde7-bcea-4a9d-a9b2-8ffe75a8042b",
   "metadata": {},
   "outputs": [
    {
     "name": "stdout",
     "output_type": "stream",
     "text": [
      "Train Dataset Count: 2014288\n",
      "Test Dataset Count: 501762\n"
     ]
    }
   ],
   "source": [
    "train, test = bd9.randomSplit([0.8, 0.2], seed = 123)\n",
    "\n",
    "print(\"Train Dataset Count: \" + str(train.count()))\n",
    "print(\"Test Dataset Count: \" + str(test.count()))"
   ]
  },
  {
   "cell_type": "code",
   "execution_count": 171,
   "id": "a9b1c095-5e15-4e0d-9bc6-e5316f6033db",
   "metadata": {},
   "outputs": [
    {
     "name": "stdout",
     "output_type": "stream",
     "text": [
      "+-----+--------------------+\n",
      "|label|            features|\n",
      "+-----+--------------------+\n",
      "|    0|[-28.0,82.0,4.0,9...|\n",
      "|    0|[-27.0,213.0,1.0,...|\n",
      "|    0|[-25.0,680.0,7.0,...|\n",
      "|    0|[-25.0,1866.0,1.0...|\n",
      "|    0|[-24.0,160.0,4.0,...|\n",
      "+-----+--------------------+\n",
      "only showing top 5 rows\n",
      "\n"
     ]
    }
   ],
   "source": [
    "train.show(5)"
   ]
  },
  {
   "cell_type": "code",
   "execution_count": 172,
   "id": "4d919ec8-b529-4da3-a9c5-907d9e0aee21",
   "metadata": {},
   "outputs": [
    {
     "name": "stdout",
     "output_type": "stream",
     "text": [
      "+-----+--------------------+\n",
      "|label|            features|\n",
      "+-----+--------------------+\n",
      "|    0|[-27.0,253.0,3.0,...|\n",
      "|    0|[-24.0,419.0,7.0,...|\n",
      "|    0|[-21.0,2562.0,6.0...|\n",
      "|    0|[-20.0,66.0,7.0,2...|\n",
      "|    0|[-20.0,859.0,4.0,...|\n",
      "+-----+--------------------+\n",
      "only showing top 5 rows\n",
      "\n"
     ]
    }
   ],
   "source": [
    "test.show(5)"
   ]
  },
  {
   "cell_type": "code",
   "execution_count": 173,
   "id": "abd5224e-dc65-40d8-83e2-1f5566bfd248",
   "metadata": {},
   "outputs": [],
   "source": [
    "from pyspark.ml.classification import LogisticRegression\n"
   ]
  },
  {
   "cell_type": "code",
   "execution_count": 174,
   "id": "bdcd22c5-31bd-40f9-971c-1980e25a3b3a",
   "metadata": {},
   "outputs": [],
   "source": [
    "lr=LogisticRegression (featuresCol = 'features', labelCol ='label', maxIter=5)\n",
    "lrModel=lr.fit(train)"
   ]
  },
  {
   "cell_type": "code",
   "execution_count": 175,
   "id": "cf833389-baa9-4a72-a488-99f3095d09e9",
   "metadata": {},
   "outputs": [
    {
     "name": "stdout",
     "output_type": "stream",
     "text": [
      "+-----+----------+----------------------------------------+\n",
      "|label|prediction|probability                             |\n",
      "+-----+----------+----------------------------------------+\n",
      "|0    |0.0       |[0.9642826333467471,0.03571736665325287]|\n",
      "|0    |0.0       |[0.8768668092977202,0.1231331907022798] |\n",
      "|0    |0.0       |[0.8538993879986924,0.14610061200130764]|\n",
      "|0    |0.0       |[0.9069910058922684,0.09300899410773156]|\n",
      "|0    |0.0       |[0.8924654782093645,0.1075345217906355] |\n",
      "+-----+----------+----------------------------------------+\n",
      "only showing top 5 rows\n",
      "\n"
     ]
    }
   ],
   "source": [
    "pred_lr=lrModel.transform(test)\n",
    "pred_lr.select('label', 'prediction', 'probability').show(5, False)"
   ]
  },
  {
   "cell_type": "code",
   "execution_count": 176,
   "id": "d23b7031-96a9-45b1-9322-bab31e85dfa6",
   "metadata": {},
   "outputs": [],
   "source": [
    "from pyspark.ml.evaluation import BinaryClassificationEvaluator\n"
   ]
  },
  {
   "cell_type": "code",
   "execution_count": 177,
   "id": "88bcfa43-6afd-4984-837a-f155eb663902",
   "metadata": {},
   "outputs": [
    {
     "name": "stdout",
     "output_type": "stream",
     "text": [
      "Area under ROC Curve (Logistic Regression model): 0.8815\n"
     ]
    }
   ],
   "source": [
    "# Let's use the run-of-the-mill evaluator\n",
    "evaluator = BinaryClassificationEvaluator(labelCol='label')\n",
    "auroc_lr = evaluator.evaluate(pred_lr, {evaluator.metricName: \"areaUnderROC\"})\n",
    "print(\"Area under ROC Curve (Logistic Regression model): {:.4f}\".format(auroc_lr))\n"
   ]
  },
  {
   "cell_type": "code",
   "execution_count": 178,
   "id": "59367300-f690-44ce-84a1-ce9a1a7e8357",
   "metadata": {},
   "outputs": [
    {
     "name": "stdout",
     "output_type": "stream",
     "text": [
      "Area Under ROC Curve (AUC) = 0.881474\n"
     ]
    }
   ],
   "source": [
    "evaluator = BinaryClassificationEvaluator(rawPredictionCol=\"rawPrediction\", labelCol=\"label\", metricName=\"areaUnderROC\")\n",
    "auc = evaluator.evaluate(pred_lr)\n",
    "print(\"Area Under ROC Curve (AUC) = %g\" % auc)"
   ]
  },
  {
   "cell_type": "code",
   "execution_count": 179,
   "id": "1c131a25-6e02-4a85-972b-945083b13660",
   "metadata": {},
   "outputs": [
    {
     "name": "stdout",
     "output_type": "stream",
     "text": [
      "F1 score: 0.7913042266297193\n"
     ]
    }
   ],
   "source": [
    "from pyspark.ml.evaluation import MulticlassClassificationEvaluator\n",
    "\n",
    "evaluator = MulticlassClassificationEvaluator(labelCol=\"label\", predictionCol=\"prediction\", metricName=\"f1\")\n",
    "\n",
    "f1_score = evaluator.evaluate(pred_lr)\n",
    "print(\"F1 score:\", f1_score)"
   ]
  },
  {
   "cell_type": "code",
   "execution_count": 180,
   "id": "daa8142f-7cfe-44d6-b051-77e1a3d2c402",
   "metadata": {},
   "outputs": [
    {
     "name": "stdout",
     "output_type": "stream",
     "text": [
      "F1 score: 0.764490007144478\n"
     ]
    }
   ],
   "source": [
    "from pyspark.ml.evaluation import BinaryClassificationEvaluator\n",
    "\n",
    "evaluator = BinaryClassificationEvaluator(labelCol=\"label\", rawPredictionCol=\"prediction\")\n",
    "\n",
    "f1_score = evaluator.evaluate(pred_lr)\n",
    "print(\"F1 score:\", f1_score)"
   ]
  },
  {
   "cell_type": "code",
   "execution_count": 181,
   "id": "90ec7ca4-0ce5-4240-a66c-719607e607dc",
   "metadata": {},
   "outputs": [],
   "source": [
    "from pyspark.ml.classification import DecisionTreeClassifier\n",
    "\n",
    "tree = DecisionTreeClassifier(labelCol=\"label\",featuresCol=\"features\",maxDepth=5,maxBins=32)\n",
    "tree_model = tree.fit(train)"
   ]
  },
  {
   "cell_type": "code",
   "execution_count": 182,
   "id": "c745c667-0c8b-4511-a468-129536935df9",
   "metadata": {},
   "outputs": [
    {
     "name": "stdout",
     "output_type": "stream",
     "text": [
      "+-----+----------+--------------------------------------+\n",
      "|label|prediction|probability                           |\n",
      "+-----+----------+--------------------------------------+\n",
      "|0    |0.0       |[0.756791328250448,0.2432086717495519]|\n",
      "|0    |0.0       |[0.57538061097977,0.42461938902022994]|\n",
      "|0    |0.0       |[0.57538061097977,0.42461938902022994]|\n",
      "|0    |0.0       |[0.756791328250448,0.2432086717495519]|\n",
      "|0    |0.0       |[0.57538061097977,0.42461938902022994]|\n",
      "+-----+----------+--------------------------------------+\n",
      "only showing top 5 rows\n",
      "\n"
     ]
    }
   ],
   "source": [
    "# Create predictions on test data\n",
    "pred_dt= tree_model.transform(test)\n",
    "pred_dt.select('label', 'prediction', 'probability').show(5, False)"
   ]
  },
  {
   "cell_type": "code",
   "execution_count": 183,
   "id": "3f36b014-770a-4028-b479-f3d1caf8eb99",
   "metadata": {},
   "outputs": [
    {
     "name": "stdout",
     "output_type": "stream",
     "text": [
      "Area under ROC Curve (Decision Tree Classifier Regression model): 0.7708\n"
     ]
    }
   ],
   "source": [
    "from pyspark.ml.evaluation import BinaryClassificationEvaluator\n",
    "\n",
    "# Let's use the run-of-the-mill evaluator\n",
    "evaluator = BinaryClassificationEvaluator(labelCol='label')\n",
    "auroc_dt = evaluator.evaluate(pred_dt, {evaluator.metricName: \"areaUnderROC\"})\n",
    "print(\"Area under ROC Curve (Decision Tree Classifier Regression model): {:.4f}\".format(auroc_dt))"
   ]
  },
  {
   "cell_type": "code",
   "execution_count": 184,
   "id": "34c9a2eb-7358-43fc-a4d5-9417d324593b",
   "metadata": {},
   "outputs": [
    {
     "name": "stdout",
     "output_type": "stream",
     "text": [
      "F1 score: 0.7831434587586473\n"
     ]
    }
   ],
   "source": [
    "from pyspark.ml.evaluation import BinaryClassificationEvaluator\n",
    "\n",
    "evaluator = BinaryClassificationEvaluator(labelCol=\"label\", rawPredictionCol=\"prediction\")\n",
    "\n",
    "f1_score = evaluator.evaluate(pred_dt)\n",
    "print(\"F1 score:\", f1_score)"
   ]
  },
  {
   "cell_type": "code",
   "execution_count": 185,
   "id": "3ee548bf-8ee0-4f8b-acef-3ce33a727a82",
   "metadata": {},
   "outputs": [],
   "source": [
    "from pyspark.ml.classification import GBTClassifier\n",
    "from pyspark.ml.evaluation import BinaryClassificationEvaluator\n",
    "from pyspark.ml.feature import VectorAssembler\n",
    "from pyspark.ml.tuning import CrossValidator, ParamGridBuilder"
   ]
  },
  {
   "cell_type": "code",
   "execution_count": 186,
   "id": "2f242390-b31e-4838-9931-fff56c0f3ff6",
   "metadata": {},
   "outputs": [],
   "source": [
    "#Uncomment this"
   ]
  },
  {
   "cell_type": "code",
   "execution_count": 187,
   "id": "3c0b15d6-b08e-436e-b2b9-e4a11defcee7",
   "metadata": {},
   "outputs": [],
   "source": [
    "# gbt = GBTClassifier()"
   ]
  },
  {
   "cell_type": "code",
   "execution_count": 188,
   "id": "0ac9db9a-f0e0-44c9-90fb-02b97c9d3612",
   "metadata": {},
   "outputs": [],
   "source": [
    "# param_grid = ParamGridBuilder() \\\n",
    "#     .addGrid(gbt.maxDepth, [2, 4, 6]) \\\n",
    "#     .addGrid(gbt.maxBins, [20, 30, 40]) \\\n",
    "#     .addGrid(gbt.maxIter, [10, 20, 30]) \\\n",
    "#     .build()"
   ]
  },
  {
   "cell_type": "code",
   "execution_count": 189,
   "id": "973192bb-e903-4637-979d-b6c12387a4d5",
   "metadata": {},
   "outputs": [],
   "source": [
    "# evaluator = BinaryClassificationEvaluator()\n",
    "# cv = CrossValidator(estimator=gbt, estimatorParamMaps=param_grid, evaluator=evaluator, numFolds=5)\n",
    "# cv_model = cv.fit(train)"
   ]
  },
  {
   "cell_type": "code",
   "execution_count": 190,
   "id": "07a7442b-2bde-459f-ba77-938abd655495",
   "metadata": {},
   "outputs": [],
   "source": [
    "# predictions_gbt = cv_model.transform(test)\n"
   ]
  },
  {
   "cell_type": "code",
   "execution_count": 191,
   "id": "5d09ea68-e961-4f41-8818-891a02d1f2ef",
   "metadata": {},
   "outputs": [],
   "source": [
    "# accuracy = evaluator.evaluate(predictions_gbt)\n",
    "# print('Accuracy:', accuracy)"
   ]
  },
  {
   "cell_type": "code",
   "execution_count": 192,
   "id": "a4ea6a47-0958-4b59-9311-3bafcc616f4d",
   "metadata": {},
   "outputs": [],
   "source": [
    "# from pyspark.ml.evaluation import BinaryClassificationEvaluator\n",
    "\n",
    "# evaluator = BinaryClassificationEvaluator(labelCol=\"label\", rawPredictionCol=\"prediction\")\n",
    "\n",
    "# f1_score = evaluator.evaluate(predictions_gbt)\n",
    "# print(\"F1 score:\", f1_score)"
   ]
  },
  {
   "cell_type": "markdown",
   "id": "7654cc96-3ae5-41ce-bb6b-6dd1162b39a6",
   "metadata": {},
   "source": [
    "# Random Forest Classifier"
   ]
  },
  {
   "cell_type": "code",
   "execution_count": 193,
   "id": "06d411d3-5903-451f-bbb2-d989e542fc13",
   "metadata": {},
   "outputs": [],
   "source": [
    "from pyspark.ml.feature import VectorAssembler\n",
    "from pyspark.ml.feature import StandardScaler\n",
    "from pyspark.ml.classification import RandomForestClassifier\n",
    "from pyspark.ml.evaluation import MulticlassClassificationEvaluator"
   ]
  },
  {
   "cell_type": "code",
   "execution_count": 194,
   "id": "d2b9b8b6-ca76-4182-a099-8a3eb9ebd3e2",
   "metadata": {},
   "outputs": [],
   "source": [
    "rf = RandomForestClassifier(numTrees=10, maxDepth=5, labelCol=\"label\", seed=1)\n",
    "model = rf.fit(train)\n"
   ]
  },
  {
   "cell_type": "code",
   "execution_count": 195,
   "id": "7890e389-007e-48a2-b1cc-ee1c651c8a72",
   "metadata": {},
   "outputs": [
    {
     "name": "stdout",
     "output_type": "stream",
     "text": [
      "Accuracy = 0.7761050059590004\n"
     ]
    }
   ],
   "source": [
    "predictions_rf = model.transform(test)\n",
    "evaluator = MulticlassClassificationEvaluator(labelCol=\"label\", predictionCol=\"prediction\", metricName=\"accuracy\")\n",
    "accuracy = evaluator.evaluate(predictions_rf)\n",
    "print(\"Accuracy = \" + str(accuracy))"
   ]
  },
  {
   "cell_type": "code",
   "execution_count": 196,
   "id": "34032bd6-6f67-4c80-8e96-f275db1f5a3c",
   "metadata": {},
   "outputs": [
    {
     "name": "stdout",
     "output_type": "stream",
     "text": [
      "F1 score: 0.7809550319043885\n"
     ]
    }
   ],
   "source": [
    "from pyspark.ml.evaluation import MulticlassClassificationEvaluator\n",
    "\n",
    "evaluator = MulticlassClassificationEvaluator(labelCol=\"label\", predictionCol=\"prediction\", metricName=\"f1\")\n",
    "\n",
    "f1_score = evaluator.evaluate(predictions_rf)\n",
    "print(\"F1 score:\", f1_score)"
   ]
  },
  {
   "cell_type": "markdown",
   "id": "5e0fd688-a96b-4879-a769-e4263e321fa8",
   "metadata": {},
   "source": [
    "# SVM"
   ]
  },
  {
   "cell_type": "code",
   "execution_count": 197,
   "id": "6ed529bd-9697-4367-9741-dbf4862ba202",
   "metadata": {},
   "outputs": [],
   "source": [
    "from pyspark.ml.classification import LinearSVC\n",
    "from pyspark.ml.evaluation import MulticlassClassificationEvaluator\n",
    "\n",
    "lsvc = LinearSVC(maxIter=10, regParam=0.1)\n",
    "model = lsvc.fit(train)"
   ]
  },
  {
   "cell_type": "code",
   "execution_count": 198,
   "id": "976d7a2c-c7c8-4f66-8de9-563231b48eb4",
   "metadata": {},
   "outputs": [],
   "source": [
    "# Make predictions on the test data\n",
    "predictions_svm = model.transform(test)"
   ]
  },
  {
   "cell_type": "code",
   "execution_count": 199,
   "id": "81dcfbb7-8006-4bbe-98a0-590e8abacef1",
   "metadata": {},
   "outputs": [
    {
     "name": "stdout",
     "output_type": "stream",
     "text": [
      "Accuracy = 0.516228\n",
      "Test Error = 0.483772\n"
     ]
    }
   ],
   "source": [
    "# Evaluate the model using the MulticlassClassificationEvaluator\n",
    "evaluator = MulticlassClassificationEvaluator(predictionCol=\"prediction\")\n",
    "accuracy = evaluator.evaluate(predictions_svm)\n",
    "print(\"Accuracy = %g\" % (accuracy))\n",
    "print(\"Test Error = %g\" % (1.0 - accuracy))"
   ]
  },
  {
   "cell_type": "code",
   "execution_count": 200,
   "id": "51250b18-d8d3-470c-863f-c07808fd15a8",
   "metadata": {},
   "outputs": [
    {
     "name": "stdout",
     "output_type": "stream",
     "text": [
      "F1 score: 0.5\n"
     ]
    }
   ],
   "source": [
    "from pyspark.ml.evaluation import BinaryClassificationEvaluator\n",
    "\n",
    "evaluator = BinaryClassificationEvaluator(labelCol=\"label\", rawPredictionCol=\"prediction\")\n",
    "\n",
    "f1_score = evaluator.evaluate(predictions_svm)\n",
    "print(\"F1 score:\", f1_score)"
   ]
  },
  {
   "cell_type": "code",
   "execution_count": null,
   "id": "557e31d9-ce89-4547-8369-6f5d584512cd",
   "metadata": {},
   "outputs": [],
   "source": []
  },
  {
   "cell_type": "code",
   "execution_count": 201,
   "id": "3961b136-b1f2-45b0-a084-e0adeb7bd13a",
   "metadata": {},
   "outputs": [],
   "source": [
    "# airline2=spark.read.format(\"csv\").option(\"header\",\"true\").option(\"inferSchema\",'True').load(r'E:\\ProjectCDAC\\Delay.csv')"
   ]
  },
  {
   "cell_type": "code",
   "execution_count": 202,
   "id": "10219d27-2b34-4f28-b3e7-3b6f5a3b6439",
   "metadata": {},
   "outputs": [],
   "source": [
    "# airline_pandas2 = airline2.limit(3).toPandas()\n",
    "# display(airline_pandas2)"
   ]
  },
  {
   "cell_type": "code",
   "execution_count": 203,
   "id": "16af3c6f-83f4-48b6-9257-7cfdc75b9b66",
   "metadata": {},
   "outputs": [],
   "source": [
    "# import pandas as pd\n",
    "# from pyspark.sql import SparkSession\n",
    "\n",
    "# # Assuming you've created a SparkSession named 'spark'\n",
    "# # Assuming 'airline' is your Spark DataFrame\n",
    "\n",
    "# # Collect rows from the Spark DataFrame\n",
    "# rows = airline2.limit(10).collect()\n",
    "\n",
    "# # Create a list of dictionaries for each row\n",
    "# row_dicts = [row.asDict() for row in rows]\n",
    "\n",
    "# # Convert the list of dictionaries to a Pandas DataFrame\n",
    "# pandas_df = pd.DataFrame(row_dicts)"
   ]
  },
  {
   "cell_type": "code",
   "execution_count": 204,
   "id": "f3faea1a-c274-4746-851f-ea9603a9b764",
   "metadata": {},
   "outputs": [],
   "source": [
    "# pandas_df"
   ]
  },
  {
   "cell_type": "code",
   "execution_count": 205,
   "id": "59aac3e8-1e25-4489-bc1f-36d1b3cf58ed",
   "metadata": {},
   "outputs": [],
   "source": [
    "# airline2.count()"
   ]
  },
  {
   "cell_type": "code",
   "execution_count": 206,
   "id": "d8d56c01-0975-451d-912a-925efc56e9a0",
   "metadata": {},
   "outputs": [],
   "source": [
    "# del airline2"
   ]
  }
 ],
 "metadata": {
  "kernelspec": {
   "display_name": "Python 3 (ipykernel)",
   "language": "python",
   "name": "python3"
  },
  "language_info": {
   "codemirror_mode": {
    "name": "ipython",
    "version": 3
   },
   "file_extension": ".py",
   "mimetype": "text/x-python",
   "name": "python",
   "nbconvert_exporter": "python",
   "pygments_lexer": "ipython3",
   "version": "3.11.4"
  }
 },
 "nbformat": 4,
 "nbformat_minor": 5
}
